{
 "cells": [
  {
   "cell_type": "markdown",
   "id": "b158b57a-89f2-4270-8ab1-d2ef5ca996e0",
   "metadata": {},
   "source": [
    "# 2.퍼셉트론 "
   ]
  },
  {
   "cell_type": "code",
   "execution_count": null,
   "id": "706117b8-e408-41ad-bf15-c3053989bb29",
   "metadata": {},
   "outputs": [],
   "source": []
  },
  {
   "cell_type": "code",
   "execution_count": 1,
   "id": "a2da04f7-080b-465b-95b3-663be6151244",
   "metadata": {},
   "outputs": [],
   "source": [
    "# w1 = 0.5, w2 = 0.5, theta = 0.7\n",
    "def AND(x1, x2) :\n",
    "    w1, w2, theta = 0.5, 0.5, 0.7\n",
    "    tmp = w1*x1 + w2*x2\n",
    "    if (tmp > theta) :\n",
    "        return 1\n",
    "    else :\n",
    "        return 0"
   ]
  },
  {
   "cell_type": "code",
   "execution_count": 3,
   "id": "81fe1957-0fef-42be-961e-21babe0b599c",
   "metadata": {},
   "outputs": [
    {
     "name": "stdout",
     "output_type": "stream",
     "text": [
      "0\n",
      "0\n",
      "0\n",
      "1\n"
     ]
    }
   ],
   "source": [
    "print(AND(0,0))\n",
    "print(AND(0,1))\n",
    "print(AND(1,0))\n",
    "print(AND(1,1))"
   ]
  },
  {
   "cell_type": "code",
   "execution_count": 7,
   "id": "78a619d1-fa5f-4d3a-981d-f925c36e348d",
   "metadata": {},
   "outputs": [
    {
     "data": {
      "text/plain": [
       "-0.19999999999999996"
      ]
     },
     "execution_count": 7,
     "metadata": {},
     "output_type": "execute_result"
    }
   ],
   "source": [
    "import numpy as np\n",
    "x = np.array([0,1])  #input\n",
    "w = np.array([0.5, 0.5])  #weight\n",
    "b = -0.7\n",
    "\n",
    "np.sum(w*x) + b"
   ]
  },
  {
   "cell_type": "code",
   "execution_count": 14,
   "id": "4442e935-1245-45de-bccb-57539edc338f",
   "metadata": {},
   "outputs": [],
   "source": [
    "#가중치와 편향을 도입한 AND게이트\n",
    "\n",
    "def AND(x1 ,x2) :\n",
    "    x = np.array([x1,x2])  #input\n",
    "    w = np.array([0.5, 0.5])  #weight\n",
    "    b = -0.7\n",
    "    tmp = np.sum(w*x) + b\n",
    "    if (tmp > 0) :\n",
    "        return 1\n",
    "    else :\n",
    "        return 0\n",
    "        "
   ]
  },
  {
   "cell_type": "code",
   "execution_count": 15,
   "id": "da73357d-f2e8-4116-9e14-2d8cf94ef553",
   "metadata": {},
   "outputs": [
    {
     "name": "stdout",
     "output_type": "stream",
     "text": [
      "0\n",
      "0\n",
      "0\n",
      "1\n"
     ]
    }
   ],
   "source": [
    "print(AND(0,0))\n",
    "print(AND(0,1))\n",
    "print(AND(1,0))\n",
    "print(AND(1,1))"
   ]
  },
  {
   "cell_type": "code",
   "execution_count": 18,
   "id": "4d0e5a46-7972-4220-be64-6d13e76303de",
   "metadata": {},
   "outputs": [],
   "source": [
    "#가중치와 편향을 도입한 OR게이트\n",
    "def OR(x1 ,x2) :\n",
    "    x = np.array([x1,x2])  #input\n",
    "    w = np.array([0.5, 0.5])  #weight\n",
    "    b = -0.2\n",
    "    tmp = np.sum(w*x) + b\n",
    "    if (tmp > 0) :\n",
    "        return 1\n",
    "    else :\n",
    "        return 0\n",
    "\n"
   ]
  },
  {
   "cell_type": "code",
   "execution_count": 19,
   "id": "0e374a58-3997-45eb-a1be-b4a93d105b12",
   "metadata": {},
   "outputs": [
    {
     "name": "stdout",
     "output_type": "stream",
     "text": [
      "0\n",
      "1\n",
      "1\n",
      "1\n"
     ]
    }
   ],
   "source": [
    "print(OR(0,0))\n",
    "print(OR(0,1))\n",
    "print(OR(1,0))\n",
    "print(OR(1,1))"
   ]
  },
  {
   "cell_type": "code",
   "execution_count": 20,
   "id": "22959b8f-fb3c-43b3-89f3-59257bc06c66",
   "metadata": {},
   "outputs": [],
   "source": [
    "#가중치와 편향을 도입한 NAND게이트\n",
    "\n",
    "def NAND(x1 ,x2) :\n",
    "    x = np.array([x1,x2])  #input\n",
    "    w = np.array([-0.5, -0.5])  #weight\n",
    "    b = 0.7\n",
    "    tmp = np.sum(w*x) + b\n",
    "    if (tmp > 0) :\n",
    "        return 1\n",
    "    else :\n",
    "        return 0\n"
   ]
  },
  {
   "cell_type": "code",
   "execution_count": 21,
   "id": "6b32fd9f-f04b-4156-85dc-d81a7a0b8e54",
   "metadata": {},
   "outputs": [
    {
     "name": "stdout",
     "output_type": "stream",
     "text": [
      "1\n",
      "1\n",
      "1\n",
      "0\n"
     ]
    }
   ],
   "source": [
    "print(NAND(0,0))\n",
    "print(NAND(0,1))\n",
    "print(NAND(1,0))\n",
    "print(NAND(1,1))"
   ]
  },
  {
   "cell_type": "code",
   "execution_count": null,
   "id": "a3fc7ef9-7798-4e44-b1d7-ce5f213cc4e4",
   "metadata": {},
   "outputs": [],
   "source": []
  },
  {
   "cell_type": "code",
   "execution_count": 23,
   "id": "05d8b3b2-076f-454f-a808-173147a63709",
   "metadata": {},
   "outputs": [],
   "source": [
    "def XOR(x1, x2) :\n",
    "    s1 = NAND(x1, x2) \n",
    "    s2 = OR(x1, x2)\n",
    "    return AND(s1, s2)"
   ]
  },
  {
   "cell_type": "code",
   "execution_count": 24,
   "id": "2298b1a7-57c9-48ea-a1d6-df43cbbc2537",
   "metadata": {},
   "outputs": [
    {
     "name": "stdout",
     "output_type": "stream",
     "text": [
      "0\n",
      "1\n",
      "1\n",
      "0\n"
     ]
    }
   ],
   "source": [
    "print(XOR(0,0))\n",
    "print(XOR(0,1))\n",
    "print(XOR(1,0))\n",
    "print(XOR(1,1))"
   ]
  },
  {
   "cell_type": "code",
   "execution_count": null,
   "id": "08660cf2-e7b9-477d-9f25-d070c921fdef",
   "metadata": {},
   "outputs": [],
   "source": []
  },
  {
   "cell_type": "code",
   "execution_count": null,
   "id": "32412585-d84a-46d2-9df3-8c75ad928fd0",
   "metadata": {},
   "outputs": [],
   "source": []
  },
  {
   "cell_type": "code",
   "execution_count": null,
   "id": "7f66ca8d-0a6d-49d1-a3d1-00c2ed0eb840",
   "metadata": {},
   "outputs": [],
   "source": []
  },
  {
   "cell_type": "code",
   "execution_count": null,
   "id": "cfc2ca88-0f21-4a6c-8708-0ce0df52e39a",
   "metadata": {},
   "outputs": [],
   "source": []
  },
  {
   "cell_type": "code",
   "execution_count": null,
   "id": "e26c8161-c25d-4d89-a7e6-202826aae25d",
   "metadata": {},
   "outputs": [],
   "source": []
  },
  {
   "cell_type": "code",
   "execution_count": null,
   "id": "fc6c3f3d-efed-4099-b7e7-2540a122f738",
   "metadata": {},
   "outputs": [],
   "source": []
  },
  {
   "cell_type": "code",
   "execution_count": null,
   "id": "eeff393f-8843-4400-b877-ac74fd8ee418",
   "metadata": {},
   "outputs": [],
   "source": []
  },
  {
   "cell_type": "code",
   "execution_count": null,
   "id": "590f4393-8024-4fe5-afce-9af5f09218d5",
   "metadata": {},
   "outputs": [],
   "source": []
  },
  {
   "cell_type": "code",
   "execution_count": null,
   "id": "6a0d7ed0-8753-41a7-8d76-b859f61f0fac",
   "metadata": {},
   "outputs": [],
   "source": []
  },
  {
   "cell_type": "code",
   "execution_count": null,
   "id": "0a1cfcae-a259-4d72-97cd-b454629b6da7",
   "metadata": {},
   "outputs": [],
   "source": []
  },
  {
   "cell_type": "code",
   "execution_count": null,
   "id": "4296d5f8-3ce6-476a-b845-bf12bec9a718",
   "metadata": {},
   "outputs": [],
   "source": []
  },
  {
   "cell_type": "code",
   "execution_count": null,
   "id": "d4f8ed1a-b823-4f0b-9aab-bb05db6bd169",
   "metadata": {},
   "outputs": [],
   "source": []
  },
  {
   "cell_type": "code",
   "execution_count": null,
   "id": "8c5ed9af-a824-46e3-af8c-21a0054a104f",
   "metadata": {},
   "outputs": [],
   "source": []
  },
  {
   "cell_type": "code",
   "execution_count": null,
   "id": "53c139bf-01b3-4748-9161-170aad4d5386",
   "metadata": {},
   "outputs": [],
   "source": []
  },
  {
   "cell_type": "code",
   "execution_count": null,
   "id": "c8f2a7bf-33c2-4903-af99-385530df482e",
   "metadata": {},
   "outputs": [],
   "source": []
  },
  {
   "cell_type": "code",
   "execution_count": null,
   "id": "1b71dc37-9d06-440b-988a-e5b57a83876b",
   "metadata": {},
   "outputs": [],
   "source": []
  },
  {
   "cell_type": "code",
   "execution_count": null,
   "id": "0f4906dd-b91a-4d51-b3ae-ddec060d3f75",
   "metadata": {},
   "outputs": [],
   "source": []
  },
  {
   "cell_type": "code",
   "execution_count": null,
   "id": "edbd7c4d-c1c8-45d0-8774-4439f3c557ca",
   "metadata": {},
   "outputs": [],
   "source": []
  },
  {
   "cell_type": "code",
   "execution_count": null,
   "id": "e3739166-75ae-44bf-a721-283e240c11f5",
   "metadata": {},
   "outputs": [],
   "source": []
  },
  {
   "cell_type": "code",
   "execution_count": null,
   "id": "9b5c15ec-0f71-4cbc-92da-56675e54ac52",
   "metadata": {},
   "outputs": [],
   "source": []
  },
  {
   "cell_type": "code",
   "execution_count": null,
   "id": "29db8ee9-d0ab-4050-aeea-f596dc5a42e6",
   "metadata": {},
   "outputs": [],
   "source": []
  }
 ],
 "metadata": {
  "kernelspec": {
   "display_name": "Python 3 (ipykernel)",
   "language": "python",
   "name": "python3"
  },
  "language_info": {
   "codemirror_mode": {
    "name": "ipython",
    "version": 3
   },
   "file_extension": ".py",
   "mimetype": "text/x-python",
   "name": "python",
   "nbconvert_exporter": "python",
   "pygments_lexer": "ipython3",
   "version": "3.9.18"
  },
  "widgets": {
   "application/vnd.jupyter.widget-state+json": {
    "state": {},
    "version_major": 2,
    "version_minor": 0
   }
  }
 },
 "nbformat": 4,
 "nbformat_minor": 5
}
