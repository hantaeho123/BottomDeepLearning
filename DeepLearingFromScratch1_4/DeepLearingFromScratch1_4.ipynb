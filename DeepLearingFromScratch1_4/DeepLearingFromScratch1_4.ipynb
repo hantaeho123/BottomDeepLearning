{
 "cells": [
  {
   "cell_type": "markdown",
   "id": "0364c55d-3aa0-4375-a080-b654d75c73ea",
   "metadata": {},
   "source": [
    "# 4. 신경망학습"
   ]
  },
  {
   "cell_type": "code",
   "execution_count": 1,
   "id": "53732b46-123f-4474-92e0-741252f1e3b3",
   "metadata": {},
   "outputs": [],
   "source": [
    "import numpy as np\n",
    "\n",
    "# 오차 제곱합\n",
    "\n",
    "def SSE(y, t) :\n",
    "    return 0.5 * np.sum((y-t)**2) "
   ]
  },
  {
   "cell_type": "code",
   "execution_count": 2,
   "id": "ac9efe50-71a9-44ba-a508-97aaf7fa7a2a",
   "metadata": {},
   "outputs": [],
   "source": [
    "t = np.array([0,0,1,0,0,0,0,0,0,0])\n",
    "y1 = np.array([0.1, 0.05, 0.6, 0.0, 0.05, 0.1, 0.0, 0.1, 0.0, 0.0])\n",
    "y2 = np.array([0.1, 0.05, 0.1, 0.0, 0.05, 0.1, 0.0, 0.6, 0.0, 0.0])\n"
   ]
  },
  {
   "cell_type": "code",
   "execution_count": 3,
   "id": "f7f54b25-5dd7-48ce-ae85-5974f331a871",
   "metadata": {},
   "outputs": [
    {
     "data": {
      "text/plain": [
       "0.09750000000000003"
      ]
     },
     "execution_count": 3,
     "metadata": {},
     "output_type": "execute_result"
    }
   ],
   "source": [
    "SSE(y1,t)"
   ]
  },
  {
   "cell_type": "code",
   "execution_count": 4,
   "id": "5e189d61-a4e7-408d-8f7e-4752807043f8",
   "metadata": {},
   "outputs": [
    {
     "data": {
      "text/plain": [
       "0.5975"
      ]
     },
     "execution_count": 4,
     "metadata": {},
     "output_type": "execute_result"
    }
   ],
   "source": [
    "SSE(y2, t)"
   ]
  },
  {
   "cell_type": "code",
   "execution_count": null,
   "id": "98837913-2c92-4deb-8189-3fae326db531",
   "metadata": {},
   "outputs": [],
   "source": []
  },
  {
   "cell_type": "code",
   "execution_count": 5,
   "id": "e5595f54-d9f7-4e4e-b477-4e8bff57e9d8",
   "metadata": {},
   "outputs": [],
   "source": [
    "# cross entropy error\n",
    "\n",
    "\n",
    "\n",
    "\n"
   ]
  },
  {
   "cell_type": "code",
   "execution_count": 6,
   "id": "0de8ce36-045b-4ca1-a5ee-ac64eb3b6c39",
   "metadata": {},
   "outputs": [
    {
     "data": {
      "image/png": "[encoded data removed]",
      "text/plain": [
       "<Figure size 640x480 with 1 Axes>"
      ]
     },
     "metadata": {},
     "output_type": "display_data"
    }
   ],
   "source": [
    "import matplotlib.pyplot as plt\n",
    "\n",
    "x = np.arange(0.1, 1, 0.1)\n",
    "y = -np.log(x)\n",
    "plt.plot(x, y)\n",
    "plt.show()"
   ]
  },
  {
   "cell_type": "code",
   "execution_count": 7,
   "id": "e076e9b7-3894-4c05-bdc9-34acaa65fa7a",
   "metadata": {},
   "outputs": [],
   "source": [
    "def cross_entropy(y,t) :\n",
    "    delta = 1e-7\n",
    "    return -np.sum(t * np.log(y+delta)) "
   ]
  },
  {
   "cell_type": "code",
   "execution_count": 8,
   "id": "bb50eab7-9a00-4a3f-b7c1-9294d315baf2",
   "metadata": {},
   "outputs": [
    {
     "data": {
      "text/plain": [
       "0.510825457099338"
      ]
     },
     "execution_count": 8,
     "metadata": {},
     "output_type": "execute_result"
    }
   ],
   "source": [
    "cross_entropy(y1,t)"
   ]
  },
  {
   "cell_type": "code",
   "execution_count": 9,
   "id": "d6d96a5b-f0c9-4d8f-bba0-d41439abfdf6",
   "metadata": {},
   "outputs": [
    {
     "data": {
      "text/plain": [
       "2.302584092994546"
      ]
     },
     "execution_count": 9,
     "metadata": {},
     "output_type": "execute_result"
    }
   ],
   "source": [
    "cross_entropy(y2, t)"
   ]
  },
  {
   "cell_type": "code",
   "execution_count": 10,
   "id": "5b6d84eb-3f6c-4606-84e5-b1603bbb2411",
   "metadata": {},
   "outputs": [],
   "source": [
    "import numpy as np\n",
    "from sklearn.datasets import fetch_openml\n",
    "from sklearn.model_selection import train_test_split\n",
    "import pickle\n"
   ]
  },
  {
   "cell_type": "code",
   "execution_count": 11,
   "id": "d5d95f70-d729-4858-a2a5-ef6105281b37",
   "metadata": {},
   "outputs": [],
   "source": [
    "# 0으로 채워진 길이 n의 리스트를 반환 \n",
    "def zeros(n) :\n",
    "    return [0 for i in range(n)]\n",
    "\n",
    "# 1차원 넘파이 배열을 2차원 one_hot_enconding으로 반환 \n",
    "# 주의 근데 여기서만 써야함\n",
    "def one_hot_encoding_in_one_to_two(y, n) :\n",
    "    output = []\n",
    "    for i in y :\n",
    "        row = zeros(n) \n",
    "        row[i] = 1\n",
    "        output.append(row)\n",
    "    return np.array(output)\n",
    "\n",
    "# 주의 4장에서만 사용할 것\n",
    "def get_data_with_one_hot_encoding() :\n",
    "    mnist = fetch_openml('mnist_784', version=1, as_frame=False)\n",
    "    X, y = mnist.data, mnist.target\n",
    "    y = y.astype(int) \n",
    "    X = X.astype(np.float64)  # 나누기를 하기위해 타입변환\n",
    "    X /= 255   #정규화, 0~1값으로 만들기\n",
    "\n",
    "    y = one_hot_encoding_in_one_to_two(y, 10) # 1차원 넘파이 배열을 2차원 one_hot_enconding으로 반환 \n",
    "    X_train, X_test, y_train, y_test = train_test_split(X, y, test_size=1/7, random_state=42)\n",
    "    \n",
    "    return (X_train, y_train), (X_test, y_test)"
   ]
  },
  {
   "cell_type": "code",
   "execution_count": 12,
   "id": "3be28b3d-932e-40a3-9d6e-57730024c008",
   "metadata": {},
   "outputs": [],
   "source": [
    "(X_train, y_train), (X_test, y_test) = get_data_with_one_hot_encoding()"
   ]
  },
  {
   "cell_type": "code",
   "execution_count": 13,
   "id": "e2c52354-1bab-4b34-b0b5-dc4c7fc98524",
   "metadata": {},
   "outputs": [
    {
     "name": "stdout",
     "output_type": "stream",
     "text": [
      "(60000, 784)\n",
      "(60000, 10)\n"
     ]
    }
   ],
   "source": [
    "print(X_train.shape)\n",
    "print(y_train.shape)"
   ]
  },
  {
   "cell_type": "code",
   "execution_count": null,
   "id": "a5d4a507-0f1c-4972-b188-7bcb98e32850",
   "metadata": {},
   "outputs": [],
   "source": []
  },
  {
   "cell_type": "code",
   "execution_count": null,
   "id": "3fbdf331-6ecd-4145-af21-7b47242713ca",
   "metadata": {},
   "outputs": [],
   "source": []
  },
  {
   "cell_type": "code",
   "execution_count": null,
   "id": "2714ffc1-18fc-4591-85d0-e79ee7398855",
   "metadata": {},
   "outputs": [],
   "source": []
  },
  {
   "cell_type": "code",
   "execution_count": 14,
   "id": "3d6f247d-eeb0-4992-aab9-812612d556ed",
   "metadata": {},
   "outputs": [],
   "source": [
    "train_size = X_train.shape[0]\n",
    "batch_size = 10"
   ]
  },
  {
   "cell_type": "code",
   "execution_count": 15,
   "id": "0bedd43d-8f32-47e7-9735-806c488952de",
   "metadata": {},
   "outputs": [],
   "source": [
    "np.random.seed(42)\n",
    "batch_mask = np.random.choice(train_size, batch_size)\n",
    "X_batch = X_train[batch_mask]  \n",
    "y_batch = y_train[batch_mask]"
   ]
  },
  {
   "cell_type": "code",
   "execution_count": null,
   "id": "90186bdf-919d-4ac1-8c3d-78bd19b975cb",
   "metadata": {},
   "outputs": [],
   "source": []
  },
  {
   "cell_type": "code",
   "execution_count": null,
   "id": "35eac295-7cc3-4bd8-9c31-bbf562622b2b",
   "metadata": {},
   "outputs": [],
   "source": []
  },
  {
   "cell_type": "code",
   "execution_count": null,
   "id": "3eb9ea4f-2af8-4681-a325-3dc16d875ed8",
   "metadata": {},
   "outputs": [],
   "source": []
  },
  {
   "cell_type": "markdown",
   "id": "4c976dba-7c39-4f88-8ba2-91f0f90ccf2d",
   "metadata": {},
   "source": [
    "# 4.3 "
   ]
  },
  {
   "cell_type": "code",
   "execution_count": 16,
   "id": "345c8030-826e-424f-beb5-192640e410b7",
   "metadata": {},
   "outputs": [],
   "source": [
    "# 잘못된 구현\n",
    "def numerical_diff(f, x) :\n",
    "    h = 1e-50\n",
    "    return (f(x+h) - f(x)) / h"
   ]
  },
  {
   "cell_type": "code",
   "execution_count": 17,
   "id": "f5980c5b-1a4c-49cb-ae52-d75449c0b10a",
   "metadata": {},
   "outputs": [],
   "source": [
    "# 보완된 구현\n",
    "def numerical_diff(f, x) :\n",
    "    h = 1e-4\n",
    "    return (f(x+h) - f(x-h)) / (2*h)"
   ]
  },
  {
   "cell_type": "code",
   "execution_count": 18,
   "id": "ec2c652b-dd1e-4e67-8c91-9b414d838655",
   "metadata": {},
   "outputs": [],
   "source": [
    "import numpy as np\n",
    "import matplotlib.pyplot as plt"
   ]
  },
  {
   "cell_type": "code",
   "execution_count": 19,
   "id": "64293a42-6d23-4cc4-9138-e56e1e358ddd",
   "metadata": {},
   "outputs": [],
   "source": [
    "def function_1(x) :\n",
    "    return 0.01*x**2 + 0.1 * x"
   ]
  },
  {
   "cell_type": "code",
   "execution_count": 20,
   "id": "2fad3dc5-4fab-451a-8edf-814c9c667dcd",
   "metadata": {},
   "outputs": [],
   "source": [
    "x = np.arange(0.0, 20.0, 0.1)\n",
    "y = function_1(x)"
   ]
  },
  {
   "cell_type": "code",
   "execution_count": 21,
   "id": "4485b423-7e10-42ab-b46d-3968263bf14a",
   "metadata": {},
   "outputs": [
    {
     "data": {
      "image/png": "[encoded data removed]",
      "text/plain": [
       "<Figure size 640x480 with 1 Axes>"
      ]
     },
     "metadata": {},
     "output_type": "display_data"
    }
   ],
   "source": [
    "plt.plot(x, y)\n",
    "plt.xlabel(\"x\")\n",
    "plt.ylabel(\"f(x)\")\n",
    "plt.show()"
   ]
  },
  {
   "cell_type": "code",
   "execution_count": 22,
   "id": "71547b8c-cf5a-446d-9236-aecc80ef511b",
   "metadata": {},
   "outputs": [
    {
     "data": {
      "text/plain": [
       "0.1999999999990898"
      ]
     },
     "execution_count": 22,
     "metadata": {},
     "output_type": "execute_result"
    }
   ],
   "source": [
    "numerical_diff(function_1, 5)"
   ]
  },
  {
   "cell_type": "code",
   "execution_count": 23,
   "id": "0479d680-5d9d-4477-8db5-8c9580a42b7a",
   "metadata": {},
   "outputs": [
    {
     "data": {
      "text/plain": [
       "0.2999999999986347"
      ]
     },
     "execution_count": 23,
     "metadata": {},
     "output_type": "execute_result"
    }
   ],
   "source": [
    "numerical_diff(function_1, 10)"
   ]
  },
  {
   "cell_type": "code",
   "execution_count": 24,
   "id": "ccaa2eae-0469-42e8-8163-dfd779a6d5b7",
   "metadata": {},
   "outputs": [],
   "source": [
    "def tangent_line(f, point) : \n",
    "    slope = numerical_diff(f, point) \n",
    "    b = f(point) - slope * point\n",
    "    return lambda x : slope * x + b "
   ]
  },
  {
   "cell_type": "code",
   "execution_count": 25,
   "id": "422a7d43-854d-44e6-bae3-7eaa9e07ec0c",
   "metadata": {},
   "outputs": [
    {
     "data": {
      "image/png": "[encoded data removed]",
      "text/plain": [
       "<Figure size 640x480 with 1 Axes>"
      ]
     },
     "metadata": {},
     "output_type": "display_data"
    }
   ],
   "source": [
    "x = np.arange(0.0, 20.0, 0.1)\n",
    "y = function_1(x)\n",
    "slope_func = tangent_line(function_1, 5) # 5인지점\n",
    "y2 = slope_func(x)\n",
    "\n",
    "slope_func2 = tangent_line(function_1, 10) # 10인지점\n",
    "y3 = slope_func2(x)\n",
    "\n",
    "plt.plot(x, y, label = \"basic fuction\")\n",
    "plt.plot(x, y2, label = \"linear func on x = 5\")\n",
    "plt.plot(x, y3, label = \"linear func on x = 10\")\n",
    "plt.grid()\n",
    "plt.legend()\n",
    "plt.xlabel(\"x\")\n",
    "plt.ylabel(\"f(x)\")\n",
    "plt.show()"
   ]
  },
  {
   "cell_type": "markdown",
   "id": "4d3b068c-effb-4fc9-884e-9ad0d91ac030",
   "metadata": {},
   "source": [
    "# 4.3.3 partial differential "
   ]
  },
  {
   "cell_type": "code",
   "execution_count": 26,
   "id": "f1d1f4ed-a4b5-4a02-8eef-6938b1974b4c",
   "metadata": {},
   "outputs": [],
   "source": [
    "def function_2(x) :\n",
    "    return x[0]**2 + x[1]**2"
   ]
  },
  {
   "cell_type": "code",
   "execution_count": 27,
   "id": "ccc132d0-3d38-4e9c-91b8-df6f7bc82da5",
   "metadata": {},
   "outputs": [],
   "source": [
    "def function_tmp1(x0) :\n",
    "    return x0 * x0 + 4.0 **2.0"
   ]
  },
  {
   "cell_type": "code",
   "execution_count": 28,
   "id": "b391f51b-b023-47f4-a0f8-129f1e69eb05",
   "metadata": {},
   "outputs": [
    {
     "data": {
      "text/plain": [
       "6.00000000000378"
      ]
     },
     "execution_count": 28,
     "metadata": {},
     "output_type": "execute_result"
    }
   ],
   "source": [
    "numerical_diff(function_tmp1, 3.0)"
   ]
  },
  {
   "cell_type": "code",
   "execution_count": 29,
   "id": "5744335e-c065-4cbd-9344-c75e8b0b7184",
   "metadata": {},
   "outputs": [],
   "source": [
    "def function_tmp2(x1) :\n",
    "    return 3.0**2.0 + x1*x1"
   ]
  },
  {
   "cell_type": "code",
   "execution_count": 30,
   "id": "b104b81f-1bbd-4f82-928e-e7dd011d5a6e",
   "metadata": {},
   "outputs": [
    {
     "data": {
      "text/plain": [
       "7.999999999999119"
      ]
     },
     "execution_count": 30,
     "metadata": {},
     "output_type": "execute_result"
    }
   ],
   "source": [
    "numerical_diff(function_tmp2,4.0)"
   ]
  },
  {
   "cell_type": "markdown",
   "id": "3ae6bec3-583d-4c33-9c2d-e1452a130b14",
   "metadata": {},
   "source": [
    "# 4.4 gradient"
   ]
  },
  {
   "cell_type": "code",
   "execution_count": 31,
   "id": "3893c009-e2c7-4832-a144-bb8346feed43",
   "metadata": {},
   "outputs": [],
   "source": [
    "def numerical_gradient(f, x) :\n",
    "    h = 1e-4\n",
    "    grad = np.zeros_like(x)\n",
    "    for idx in range(x.size) :\n",
    "        tmp_val = x[idx]\n",
    "        x[idx] = tmp_val + h   #f(x+h)\n",
    "        fxh_1 = f(x)\n",
    "        x[idx] = tmp_val - h     #f(x-h)\n",
    "        fxh_2 = f(x)\n",
    "\n",
    "        grad[idx] = (fxh_1 - fxh_2) / (2*h)\n",
    "        x[idx] = tmp_val\n",
    "\n",
    "    return grad\n",
    "    "
   ]
  },
  {
   "cell_type": "code",
   "execution_count": 32,
   "id": "10b2c089-d558-4b2a-9b8f-b00f19c2301f",
   "metadata": {},
   "outputs": [
    {
     "data": {
      "text/plain": [
       "array([6., 8.])"
      ]
     },
     "execution_count": 32,
     "metadata": {},
     "output_type": "execute_result"
    }
   ],
   "source": [
    "numerical_gradient(function_2, np.array([3.0, 4.0]))"
   ]
  },
  {
   "cell_type": "code",
   "execution_count": 33,
   "id": "947375c5-6e9f-4628-9786-f02be591a90c",
   "metadata": {},
   "outputs": [
    {
     "data": {
      "text/plain": [
       "array([0., 4.])"
      ]
     },
     "execution_count": 33,
     "metadata": {},
     "output_type": "execute_result"
    }
   ],
   "source": [
    "numerical_gradient(function_2, np.array([0.0, 2.0]))"
   ]
  },
  {
   "cell_type": "code",
   "execution_count": 34,
   "id": "728c2bc2-a010-4804-8aa4-271a7a4385c1",
   "metadata": {},
   "outputs": [
    {
     "data": {
      "text/plain": [
       "array([6., 0.])"
      ]
     },
     "execution_count": 34,
     "metadata": {},
     "output_type": "execute_result"
    }
   ],
   "source": [
    "numerical_gradient(function_2, np.array([3.0, 0.0]))"
   ]
  },
  {
   "cell_type": "code",
   "execution_count": 35,
   "id": "13763b68-980f-47d9-964a-e1821c6f7741",
   "metadata": {},
   "outputs": [],
   "source": [
    "# f(x0, x1) = x0**2 + x1**2   #vecter field"
   ]
  },
  {
   "cell_type": "code",
   "execution_count": 36,
   "id": "301a6fa3-030d-476a-a8ef-665fea5623a7",
   "metadata": {},
   "outputs": [
    {
     "data": {
      "text/plain": [
       "'\\nx = np.arange(-2, 2, 0.1)\\ny = np.arange(-2, 2, 0.1)\\nX, Y = np.meshgrid(x,y)\\nX = X.flatten()\\nY = Y.flatten()\\ngrad = numerical_gradient(function_2, np.array([X, Y]))\\n\\nplt.quiver(X, Y, -grad[0], -grad[1])\\nplt.show()\\n'"
      ]
     },
     "execution_count": 36,
     "metadata": {},
     "output_type": "execute_result"
    }
   ],
   "source": [
    "\"\"\"\n",
    "x = np.arange(-2, 2, 0.1)\n",
    "y = np.arange(-2, 2, 0.1)\n",
    "X, Y = np.meshgrid(x,y)\n",
    "X = X.flatten()\n",
    "Y = Y.flatten()\n",
    "grad = numerical_gradient(function_2, np.array([X, Y]))\n",
    "\n",
    "plt.quiver(X, Y, -grad[0], -grad[1])\n",
    "plt.show()\n",
    "\"\"\"\n"
   ]
  },
  {
   "cell_type": "code",
   "execution_count": null,
   "id": "d522aecd-e303-4da6-a7c1-103e99c3a0f9",
   "metadata": {},
   "outputs": [],
   "source": []
  },
  {
   "cell_type": "markdown",
   "id": "5f21828b-146b-44a3-abda-3a88192f05ec",
   "metadata": {},
   "source": [
    "# 4.4.1 경사법 \n",
    "x_(i+1) = x_i - eta * df/dx_i"
   ]
  },
  {
   "cell_type": "code",
   "execution_count": 37,
   "id": "240d96b1-3c22-43dc-ab80-76edf1950198",
   "metadata": {},
   "outputs": [],
   "source": [
    "# f는 최적화 하려는 함수, init_x는 초깃값, lr는 learnging rate, step_num는 반복횟수\n",
    "def gradient_descent(f, init_x, lr = 0.01, step_num = 100) :\n",
    "    x = init_x\n",
    "    for i in range(step_num) :\n",
    "        grad = numerical_gradient(f, x)\n",
    "        x = x - lr * grad\n",
    "    return x\n",
    "    "
   ]
  },
  {
   "cell_type": "code",
   "execution_count": 38,
   "id": "99a5923d-92e6-4a6a-b7e1-a8548976e354",
   "metadata": {},
   "outputs": [],
   "source": [
    "def function_2(x) :\n",
    "    return x[0]**2 + x[1]**2"
   ]
  },
  {
   "cell_type": "code",
   "execution_count": 39,
   "id": "91e0a7ba-d80b-4291-979a-91ee7778c95b",
   "metadata": {},
   "outputs": [
    {
     "data": {
      "text/plain": [
       "array([-6.11110793e-10,  8.14814391e-10])"
      ]
     },
     "execution_count": 39,
     "metadata": {},
     "output_type": "execute_result"
    }
   ],
   "source": [
    "init_x = np.array([-3., 4.])\n",
    "gradient_descent(function_2, init_x = init_x, lr = 0.1, step_num = 100)"
   ]
  },
  {
   "cell_type": "code",
   "execution_count": null,
   "id": "b6d2d275-cce3-4d85-b7e7-88873f80ed5a",
   "metadata": {},
   "outputs": [],
   "source": []
  },
  {
   "cell_type": "code",
   "execution_count": 40,
   "id": "0c3c688c-966d-45fc-b5c4-0d129e07031f",
   "metadata": {},
   "outputs": [
    {
     "data": {
      "text/plain": [
       "array([-2.58983747e+13, -1.29524862e+12])"
      ]
     },
     "execution_count": 40,
     "metadata": {},
     "output_type": "execute_result"
    }
   ],
   "source": [
    "# 학습률이 너무 큰 예 :\n",
    "init_x = np.array([-3., 4.])\n",
    "gradient_descent(function_2, init_x =init_x, lr = 10, step_num = 100)"
   ]
  },
  {
   "cell_type": "code",
   "execution_count": 41,
   "id": "5ecf1a67-bfcb-4890-b9e9-d7c729dc01b8",
   "metadata": {},
   "outputs": [
    {
     "data": {
      "text/plain": [
       "array([-2.99999994, -3.99999992])"
      ]
     },
     "execution_count": 41,
     "metadata": {},
     "output_type": "execute_result"
    }
   ],
   "source": [
    "# 학습률이 너무 작은 예 : \n",
    "init_x = np.array([-3., -4.])\n",
    "gradient_descent(function_2, init_x = init_x, lr = 1e-10, step_num = 100)"
   ]
  },
  {
   "cell_type": "code",
   "execution_count": 42,
   "id": "a995477e-9b84-42a7-8718-635dfc2a0a8b",
   "metadata": {},
   "outputs": [],
   "source": [
    "# 하이퍼 파라미터의 중요성!!"
   ]
  },
  {
   "cell_type": "code",
   "execution_count": null,
   "id": "45835962-10a7-43c3-b387-3f1c6aa8d1ef",
   "metadata": {},
   "outputs": [],
   "source": []
  },
  {
   "cell_type": "markdown",
   "id": "8a22ed33-3b9f-476f-b6e5-cb4d4fb884f8",
   "metadata": {},
   "source": [
    "# 4.4.2 신경망에서의 기울기"
   ]
  },
  {
   "cell_type": "code",
   "execution_count": 43,
   "id": "b3c13df1-f351-4abc-b2dd-a92288539bde",
   "metadata": {},
   "outputs": [],
   "source": [
    "# softmax함수 구현\n",
    "\n",
    "def softmax(a) :\n",
    "    c = np.max(a)\n",
    "    exp_a = np.exp(a - c) # 오버플로우 방지\n",
    "    sum_exp_a = np.sum(exp_a)\n",
    "    y = exp_a / sum_exp_a\n",
    "    \n",
    "    return y\n",
    "    \n",
    "def cross_entropy(y,t) :\n",
    "    delta = 1e-7\n",
    "    return -np.sum(t * np.log(y + delta))"
   ]
  },
  {
   "cell_type": "code",
   "execution_count": null,
   "id": "429b4a8d-deae-4a08-bf3f-4fbe6f697613",
   "metadata": {},
   "outputs": [],
   "source": []
  },
  {
   "cell_type": "code",
   "execution_count": null,
   "id": "0c812bcf-9802-4036-bee8-85c8ab4f16ef",
   "metadata": {},
   "outputs": [],
   "source": []
  },
  {
   "cell_type": "code",
   "execution_count": null,
   "id": "d886efb1-ba89-47de-bd8b-517144c9fa4f",
   "metadata": {},
   "outputs": [],
   "source": []
  },
  {
   "cell_type": "code",
   "execution_count": 44,
   "id": "6585c7a7-0d85-4405-866c-03743e45055a",
   "metadata": {},
   "outputs": [],
   "source": [
    "#입력이 (2,)인 신경망 \n",
    "class simpleNet:\n",
    "    def __init__(self) :\n",
    "        self.W = np.random.randn(2,3)  # 정규분포에서 초기화\n",
    "        \n",
    "    def predict(self, x) :\n",
    "        return np.dot(x, self.W)\n",
    "        \n",
    "    def loss(self, x, t) :\n",
    "        z = self.predict(x) \n",
    "        y = softmax(z)\n",
    "        loss = cross_entropy(y,t)\n",
    "\n",
    "        return loss"
   ]
  },
  {
   "cell_type": "code",
   "execution_count": 45,
   "id": "b6902019-aaf8-45b0-9829-df400dae3ffe",
   "metadata": {},
   "outputs": [
    {
     "name": "stdout",
     "output_type": "stream",
     "text": [
      "[[-0.094621   -0.9288281  -0.88523035]\n",
      " [-0.41218848 -0.4826188   0.16416482]]\n"
     ]
    }
   ],
   "source": [
    "net = simpleNet()\n",
    "print(net.W)"
   ]
  },
  {
   "cell_type": "code",
   "execution_count": 46,
   "id": "f6ad01ce-cf26-4eb1-aef8-eaf1494dfc62",
   "metadata": {},
   "outputs": [
    {
     "name": "stdout",
     "output_type": "stream",
     "text": [
      "[-0.42774223 -0.99165378 -0.38338987]\n"
     ]
    }
   ],
   "source": [
    "x = np.array([0.6, 0.9])\n",
    "p = net.predict(x)\n",
    "print(p)"
   ]
  },
  {
   "cell_type": "code",
   "execution_count": 47,
   "id": "c6139fae-4b29-43f5-aac1-41be6268db15",
   "metadata": {},
   "outputs": [
    {
     "data": {
      "text/plain": [
       "2"
      ]
     },
     "execution_count": 47,
     "metadata": {},
     "output_type": "execute_result"
    }
   ],
   "source": [
    "np.argmax(p)"
   ]
  },
  {
   "cell_type": "code",
   "execution_count": 48,
   "id": "51ba427a-a23a-48dd-98c2-466a317bd1ec",
   "metadata": {},
   "outputs": [],
   "source": [
    "t = np.array([0,0,1])  #정답레이블 "
   ]
  },
  {
   "cell_type": "code",
   "execution_count": 49,
   "id": "736a1092-c534-43a2-b4a5-de26b4fef1f1",
   "metadata": {},
   "outputs": [
    {
     "data": {
      "text/plain": [
       "0.9166551419359746"
      ]
     },
     "execution_count": 49,
     "metadata": {},
     "output_type": "execute_result"
    }
   ],
   "source": [
    "net.loss(x, t)"
   ]
  },
  {
   "cell_type": "code",
   "execution_count": null,
   "id": "1d887a69-9372-4993-a983-3227244a43b1",
   "metadata": {},
   "outputs": [],
   "source": []
  },
  {
   "cell_type": "code",
   "execution_count": 50,
   "id": "1774da00-3356-4532-be04-a07929ed8b02",
   "metadata": {},
   "outputs": [
    {
     "data": {
      "text/plain": [
       "'\\nf = lambda w : net.loss(x, t)\\ndW = numberical_gradient(f, net.W)\\n'"
      ]
     },
     "execution_count": 50,
     "metadata": {},
     "output_type": "execute_result"
    }
   ],
   "source": [
    "def f(w) :\n",
    "    return net.loss(x,  t)\n",
    "\"\"\"\n",
    "f = lambda w : net.loss(x, t)\n",
    "dW = numberical_gradient(f, net.W)\n",
    "\"\"\"\n"
   ]
  },
  {
   "cell_type": "code",
   "execution_count": 51,
   "id": "846f148b-49b2-4775-a44b-eb690260b0f8",
   "metadata": {},
   "outputs": [],
   "source": [
    "def numerical_gradient(f, x):\n",
    "    h = 1e-4  # 0.0001, 작은 값을 사용하여 수치 미분을 계산\n",
    "    grad = np.zeros_like(x)  # x와 같은 모양의 배열을 생성하여 기울기 값을 저장할 공간 마련\n",
    "    \n",
    "    # x의 각 요소를 순차적으로 접근하기 위해 nditer 객체 생성\n",
    "    it = np.nditer(x, flags=['multi_index'], op_flags=['readwrite'])\n",
    "    while not it.finished:  # 모든 요소를 순회할 때까지 반복\n",
    "        idx = it.multi_index  # 현재 위치 (인덱스) 가져오기\n",
    "        tmp_val = x[idx]  # 현재 인덱스의 값을 임시로 저장\n",
    "        \n",
    "        # f(x + h) 계산\n",
    "        x[idx] = float(tmp_val) + h  # x의 현재 위치에 작은 값 h를 더함\n",
    "        fxh1 = f(x)  # f(x+h)\n",
    "        \n",
    "        # f(x - h) 계산\n",
    "        x[idx] = tmp_val - h  # x의 현재 위치에서 작은 값 h를 뺌\n",
    "        fxh2 = f(x)  # f(x-h)\n",
    "        \n",
    "        # 기울기 계산: 중앙 차분 공식 (f(x+h) - f(x-h)) / (2*h)\n",
    "        grad[idx] = (fxh1 - fxh2) / (2*h)\n",
    "        \n",
    "        # 원래 값 복원\n",
    "        x[idx] = tmp_val\n",
    "        it.iternext()  # 다음 요소로 이동\n",
    "        \n",
    "    return grad  # 계산된 기울기 반환\n"
   ]
  },
  {
   "cell_type": "code",
   "execution_count": null,
   "id": "78022350-7ec5-4c55-91c4-5a8ceec7d834",
   "metadata": {},
   "outputs": [],
   "source": []
  },
  {
   "cell_type": "code",
   "execution_count": 52,
   "id": "cecdbc18-1404-4a12-a018-9e7f218afded",
   "metadata": {},
   "outputs": [
    {
     "name": "stdout",
     "output_type": "stream",
     "text": [
      "[[ 0.22950427  0.13058314 -0.36008741]\n",
      " [ 0.34425641  0.19587471 -0.54013112]]\n"
     ]
    }
   ],
   "source": [
    "dW = numerical_gradient(f, net.W)\n",
    "print(dW)"
   ]
  },
  {
   "cell_type": "code",
   "execution_count": null,
   "id": "be5781a7-f036-4c94-9981-1106ca7d3b86",
   "metadata": {},
   "outputs": [],
   "source": []
  },
  {
   "cell_type": "markdown",
   "id": "7886292c-77e9-459c-a6db-5319e8d5ca34",
   "metadata": {},
   "source": [
    "# 4.5 학습 알고리즘 구현하기"
   ]
  },
  {
   "cell_type": "code",
   "execution_count": null,
   "id": "7696d863-b6bc-4ba2-a441-eca68d27669f",
   "metadata": {},
   "outputs": [],
   "source": []
  },
  {
   "cell_type": "code",
   "execution_count": 53,
   "id": "9847c951-a2ca-47dc-b630-269f38b8a972",
   "metadata": {},
   "outputs": [],
   "source": [
    "import numpy as np\n",
    "\n",
    "# 시그모이드 함수구현\n",
    "def sigmoid(x) :\n",
    "    return 1 / (1 + np.exp(-x))\n",
    "\n",
    "\n",
    "# softmax함수 구현\n",
    "def softmax(a) :\n",
    "    c = np.max(a)\n",
    "    exp_a = np.exp(a - c) # 오버플로우 방지\n",
    "    sum_exp_a = np.sum(exp_a)\n",
    "    y = exp_a / sum_exp_a\n",
    "    return y\n",
    "\n",
    "\n",
    "# 크로스 엔트로피 계산\n",
    "def cross_entropy(y,t) :\n",
    "    delta = 1e-7\n",
    "    return -np.sum(t * np.log(y + delta))"
   ]
  },
  {
   "cell_type": "code",
   "execution_count": 54,
   "id": "53d88c11-1a87-4e50-8139-25aefa4b007d",
   "metadata": {},
   "outputs": [],
   "source": [
    " \n",
    "\n",
    "def numerical_gradient(f, x):\n",
    "    h = 1e-4 # 0.0001\n",
    "    grad = np.zeros_like(x)\n",
    "    \n",
    "    it = np.nditer(x, flags=['multi_index'], op_flags=['readwrite'])\n",
    "    while not it.finished:\n",
    "        idx = it.multi_index\n",
    "        \n",
    "        tmp_val = x[idx]\n",
    "        x[idx] = float(tmp_val) + h\n",
    "        fxh1 = f(x) # f(x+h)\n",
    "        \n",
    "        x[idx] = tmp_val - h \n",
    "        fxh2 = f(x) # f(x-h)\n",
    "        grad[idx] = (fxh1 - fxh2) / (2*h)\n",
    "        \n",
    "        x[idx] = tmp_val # 값 복원\n",
    "        it.iternext()   \n",
    "        \n",
    "    return grad"
   ]
  },
  {
   "cell_type": "code",
   "execution_count": null,
   "id": "2ecbebc3-60da-4173-8d3d-6c81cb94832c",
   "metadata": {},
   "outputs": [],
   "source": []
  },
  {
   "cell_type": "code",
   "execution_count": 55,
   "id": "f9016b20-9826-43bc-9705-49b3e81b13da",
   "metadata": {},
   "outputs": [],
   "source": [
    "class TwoLayerNet :\n",
    "    def __init__(self, input_size, hidden_size, output_size, weight_init_std=0.01) :\n",
    "        #가중치 초기화\n",
    "        self.params = {}\n",
    "        self.params['W1'] = weight_init_std * np.random.randn(input_size, hidden_size) \n",
    "        self.params['b1'] = np.zeros(hidden_size)\n",
    "        self.params['W2'] = weight_init_std * np.random.randn(hidden_size, output_size)\n",
    "        self.params['b2'] = np.zeros(output_size)\n",
    "\n",
    "    def predict(self, x) :\n",
    "        W1, W2 = self.params['W1'], self.params['W2']\n",
    "        b1, b2 = self.params['b1'], self.params['b2']\n",
    "\n",
    "        a1 = np.dot(x, W1) + b1\n",
    "        z1 = sigmoid(a1)\n",
    "        a2 = np.dot(z1, W2) + b2\n",
    "        y = softmax(a2)\n",
    "\n",
    "        return y\n",
    "\n",
    "    def loss(self, x, t) :\n",
    "        y = self.predict(x)\n",
    "        \n",
    "        return cross_entropy(y, t)\n",
    "\n",
    "    def accuracy(self, x, t) :\n",
    "        y = self.predict(x)\n",
    "        y = np.argmax(y, axis=1)\n",
    "        t = np.argmax(t, axis=1)\n",
    "\n",
    "        accuracy = np.sum(y == t) / float(y.shape[0])\n",
    "        \n",
    "        return accuracy\n",
    "\n",
    "\n",
    "    def numerical_gradient(self, x, t) :\n",
    "        loss_W = lambda W : self.loss(x, t)\n",
    "\n",
    "        grads = {}\n",
    "        grads['W1'] = numerical_gradient(loss_W, self.params['W1'])\n",
    "        grads['b1'] = numerical_gradient(loss_W, self.params['b1'])\n",
    "        grads['W2'] = numerical_gradient(loss_W, self.params['W2'])\n",
    "        grads['b2'] = numerical_gradient(loss_W, self.params['b2'])\n",
    "\n",
    "        return grads\n"
   ]
  },
  {
   "cell_type": "code",
   "execution_count": 56,
   "id": "976b010b-10a9-4bcd-aaee-df7e83a68474",
   "metadata": {},
   "outputs": [],
   "source": [
    "net = TwoLayerNet(input_size=784, hidden_size=100, output_size=10)"
   ]
  },
  {
   "cell_type": "code",
   "execution_count": 57,
   "id": "3cf381e6-d876-4fed-85aa-7b8916c0eb8f",
   "metadata": {},
   "outputs": [
    {
     "name": "stdout",
     "output_type": "stream",
     "text": [
      "(784, 100)\n",
      "(100,)\n",
      "(100, 10)\n",
      "(10,)\n"
     ]
    }
   ],
   "source": [
    "print(net.params['W1'].shape)\n",
    "print(net.params['b1'].shape)\n",
    "print(net.params['W2'].shape)\n",
    "print(net.params['b2'].shape)"
   ]
  },
  {
   "cell_type": "code",
   "execution_count": 58,
   "id": "a653d8fd-fdfc-42e3-9e5d-6e9e085acf58",
   "metadata": {},
   "outputs": [],
   "source": [
    "x = np.random.rand(100, 784)\n",
    "y = net.predict(x)"
   ]
  },
  {
   "cell_type": "code",
   "execution_count": 59,
   "id": "5b26d368-4e54-4731-a081-fcbf3b010ec3",
   "metadata": {
    "scrolled": true
   },
   "outputs": [
    {
     "name": "stdout",
     "output_type": "stream",
     "text": [
      "(784, 100)\n",
      "(100,)\n",
      "(100, 10)\n",
      "(10,)\n"
     ]
    }
   ],
   "source": [
    "x = np.random.rand(100, 784)\n",
    "t = np.random.rand(100, 10)\n",
    "\n",
    "grads = net.numerical_gradient(x, t)\n",
    "\n",
    "print(grads['W1'].shape)\n",
    "print(grads['b1'].shape)\n",
    "print(grads['W2'].shape)\n",
    "print(grads['b2'].shape)"
   ]
  },
  {
   "cell_type": "code",
   "execution_count": null,
   "id": "3c9b1327-914c-491c-a44b-6ae3da9aa730",
   "metadata": {},
   "outputs": [],
   "source": []
  },
  {
   "cell_type": "markdown",
   "id": "5349b504-6468-4cfc-86fb-28469ac9dafc",
   "metadata": {},
   "source": [
    "# 4.52 미니배치 학습 구현하기"
   ]
  },
  {
   "cell_type": "code",
   "execution_count": 60,
   "id": "bd8e3741-51ca-4248-9301-f882cb8e6b13",
   "metadata": {},
   "outputs": [],
   "source": [
    "#입력층은 28*28\n",
    "#출력층은 10(0~9)\n",
    "# 첫번째 은닉층은 50개 두번째 은닉층은 100개로 임의로 정함\n",
    "from sklearn.datasets import fetch_openml\n",
    "from sklearn.model_selection import train_test_split\n",
    "\n",
    "# 0으로 채워진 길이 n의 리스트를 반환 \n",
    "def zeros(n) :\n",
    "    return [0 for i in range(n)]\n",
    "\n",
    "# 1차원 넘파이 배열을 2차원 one_hot_enconding으로 반환 \n",
    "# 주의 근데 여기서만 써야함\n",
    "def one_hot_encoding_in_one_to_two(y, n) :\n",
    "    output = []\n",
    "    for i in y :\n",
    "        row = zeros(n) \n",
    "        row[i] = 1\n",
    "        output.append(row)\n",
    "    return np.array(output)\n",
    "\n",
    "# 주의 4장에서만 사용할 것\n",
    "def get_data_with_one_hot_encoding() :\n",
    "    mnist = fetch_openml('mnist_784', version=1, as_frame=False)\n",
    "    X, y = mnist.data, mnist.target\n",
    "    y = y.astype(int) \n",
    "    X = X.astype(np.float64)  # 나누기를 하기위해 타입변환\n",
    "    X /= 255   #정규화, 0~1값으로 만들기\n",
    "\n",
    "    y = one_hot_encoding_in_one_to_two(y, 10) # 1차원 넘파이 배열을 2차원 one_hot_enconding으로 반환 \n",
    "    X_train, X_test, y_train, y_test = train_test_split(X, y, test_size=1/7, random_state=42)\n",
    "    \n",
    "    return (X_train, y_train), (X_test, y_test)"
   ]
  },
  {
   "cell_type": "code",
   "execution_count": null,
   "id": "9a38e9c2-e90b-4879-bcd7-51767a48f2ba",
   "metadata": {},
   "outputs": [],
   "source": []
  },
  {
   "cell_type": "code",
   "execution_count": 61,
   "id": "1c6bc0d9-e2e3-4116-a7f8-b797e726831f",
   "metadata": {},
   "outputs": [],
   "source": [
    "(X_train, y_train), (X_test, y_test) = get_data_with_one_hot_encoding()"
   ]
  },
  {
   "cell_type": "code",
   "execution_count": 62,
   "id": "1a2fb0d2-fca1-4f36-a45c-b425df8299e1",
   "metadata": {},
   "outputs": [],
   "source": [
    "train_loss_list = []\n",
    "\n",
    "#하이퍼 파라미터\n",
    "iters_num = 1000   #반복횟수\n",
    "train_size = X_train.shape[0]\n",
    "batch_size = 100  # 미니배치 크기\n",
    "learning_rate = 0.1\n",
    "\n",
    "#hidden_size는 10으로 해버린다.\n",
    "network = TwoLayerNet(input_size=784, hidden_size=10, output_size=10)\n",
    "\n",
    "\n",
    "#경사하강법 훈련하기\n",
    "for i in range(iters_num) :\n",
    "    batch_mask = np.random.choice(train_size, batch_size)\n",
    "    X_batch = X_train[batch_mask]\n",
    "    y_batch = y_train[batch_mask]\n",
    "\n",
    "    #기울기 계산\n",
    "    grad = network.numerical_gradient(X_batch, y_batch)\n",
    "\n",
    "    #매개변수 갱신\n",
    "    for key in ('W1', 'b1', 'W2', 'b2') :\n",
    "        network.params[key] -= learning_rate * grad[key]\n",
    "\n",
    "    loss = network.loss(X_batch, y_batch)\n",
    "    train_loss_list.append(loss) "
   ]
  },
  {
   "cell_type": "code",
   "execution_count": 63,
   "id": "55dd7f87-7914-4247-8852-66a8194421d3",
   "metadata": {},
   "outputs": [
    {
     "data": {
      "image/png": "[encoded data removed]",
      "text/plain": [
       "<Figure size 640x480 with 1 Axes>"
      ]
     },
     "metadata": {},
     "output_type": "display_data"
    }
   ],
   "source": [
    "import matplotlib.pyplot as plt\n",
    "\n",
    "x = np.arange(len(train_loss_list))\n",
    "plt.plot(x, train_loss_list)\n",
    "plt.show()\n"
   ]
  },
  {
   "cell_type": "code",
   "execution_count": null,
   "id": "390b09d0-5ef2-422f-a114-068e97d69333",
   "metadata": {},
   "outputs": [],
   "source": []
  },
  {
   "cell_type": "code",
   "execution_count": null,
   "id": "b972675b-1894-4f88-bdc3-91f9ca2d5e3d",
   "metadata": {},
   "outputs": [],
   "source": []
  },
  {
   "cell_type": "code",
   "execution_count": null,
   "id": "db4220a9-fd48-4e68-9c22-28c8f73ad8bd",
   "metadata": {},
   "outputs": [],
   "source": []
  },
  {
   "cell_type": "code",
   "execution_count": null,
   "id": "d9e0ca4b-38e4-42c5-80d6-6ec23aeb3b0a",
   "metadata": {},
   "outputs": [],
   "source": []
  },
  {
   "cell_type": "code",
   "execution_count": 64,
   "id": "6e4ea8eb-5874-4c7e-bbb6-42eac8218380",
   "metadata": {},
   "outputs": [
    {
     "name": "stdout",
     "output_type": "stream",
     "text": [
      "train acc, test acc | 0.10396666666666667, 0.1055\n",
      "train acc, test acc | 0.49751666666666666, 0.4925\n",
      "train acc, test acc | 0.5978666666666667, 0.6032\n",
      "train acc, test acc | 0.75685, 0.751\n",
      "train acc, test acc | 0.7100333333333333, 0.6964\n",
      "train acc, test acc | 0.7766333333333333, 0.7709\n",
      "train acc, test acc | 0.61445, 0.6118\n",
      "train acc, test acc | 0.7616333333333334, 0.7601\n",
      "train acc, test acc | 0.74895, 0.7505\n",
      "train acc, test acc | 0.7025166666666667, 0.6939\n",
      "train acc, test acc | 0.78845, 0.7797\n",
      "train acc, test acc | 0.6249166666666667, 0.6046\n",
      "train acc, test acc | 0.7858666666666667, 0.7802\n",
      "train acc, test acc | 0.8015333333333333, 0.7979\n",
      "train acc, test acc | 0.8078666666666666, 0.8025\n",
      "train acc, test acc | 0.83225, 0.8259\n",
      "train acc, test acc | 0.8122666666666667, 0.8037\n"
     ]
    }
   ],
   "source": [
    "train_loss_list = []\n",
    "train_acc_list = []\n",
    "test_acc_list = []\n",
    "\n",
    "\n",
    "#하이퍼 파라미터\n",
    "iters_num = 10000   #반복횟수\n",
    "train_size = X_train.shape[0]\n",
    "batch_size = 100  # 미니배치 크기\n",
    "learning_rate = 0.1\n",
    "\n",
    "#hidden_size는 10으로 해버린다.\n",
    "network2 = TwoLayerNet(input_size=784, hidden_size=10, output_size=10)\n",
    "\n",
    "\n",
    "# 1에폭당 반복수\n",
    "iter_per_epoch = max(train_size//batch_size, 1)\n",
    "\n",
    "\n",
    "#경사하강법 훈련하기\n",
    "for i in range(iters_num) :\n",
    "    batch_mask = np.random.choice(train_size, batch_size)\n",
    "    X_batch = X_train[batch_mask]\n",
    "    y_batch = y_train[batch_mask]\n",
    "\n",
    "    # 기울기 계산\n",
    "    grad = network2.numerical_gradient(X_batch, y_batch)\n",
    "\n",
    "    #매개변수갱신\n",
    "    for key in ('W1', 'b1', 'W2', 'b2') :\n",
    "        network2.params[key] -= learning_rate * grad[key]\n",
    "\n",
    "    #학습 경과 기록\n",
    "    loss = network2.loss(X_batch, y_batch)\n",
    "    train_loss_list.append(loss)\n",
    "\n",
    "\n",
    "    #1에폭당 정확도 계산\n",
    "    if i % iter_per_epoch == 0 :\n",
    "        train_acc = network2.accuracy(X_train, y_train)\n",
    "        test_acc = network2.accuracy(X_test, y_test)\n",
    "        train_acc_list.append(train_acc)\n",
    "        test_acc_list.append(test_acc)\n",
    "        print(\"train acc, test acc | \"+ str(train_acc)+\", \"+str(test_acc))\n",
    "    \n"
   ]
  },
  {
   "cell_type": "code",
   "execution_count": null,
   "id": "75429c34-32a7-4362-a789-04706d3760cf",
   "metadata": {},
   "outputs": [],
   "source": []
  },
  {
   "cell_type": "code",
   "execution_count": 65,
   "id": "38dcfd2f-f2ed-4c30-887b-aa72c564baf3",
   "metadata": {},
   "outputs": [
    {
     "data": {
      "image/png": "[encoded data removed]",
      "text/plain": [
       "<Figure size 640x480 with 1 Axes>"
      ]
     },
     "metadata": {},
     "output_type": "display_data"
    }
   ],
   "source": [
    "x1 = np.arange(len(train_acc_list))\n",
    "x2 = np.arange(len(test_acc_list))\n",
    "\n",
    "plt.plot(x1, train_acc_list, linestyle = '-')\n",
    "plt.plot(x2, test_acc_list, linestyle = '--')\n",
    "plt.show()"
   ]
  },
  {
   "cell_type": "code",
   "execution_count": null,
   "id": "a1380e40-36da-4795-9034-58125634cf50",
   "metadata": {},
   "outputs": [],
   "source": []
  },
  {
   "cell_type": "code",
   "execution_count": null,
   "id": "78dc9b00-f016-4ded-b044-a83e9d7be16e",
   "metadata": {},
   "outputs": [],
   "source": []
  },
  {
   "cell_type": "code",
   "execution_count": null,
   "id": "c2cbe6fd-189b-4651-a387-ac5406bf8e14",
   "metadata": {},
   "outputs": [],
   "source": []
  },
  {
   "cell_type": "code",
   "execution_count": null,
   "id": "8e04e6e0-614c-43b7-98ec-0a327e886224",
   "metadata": {},
   "outputs": [],
   "source": []
  },
  {
   "cell_type": "code",
   "execution_count": null,
   "id": "638829fa-0189-4ae0-83ec-958e3f301184",
   "metadata": {},
   "outputs": [],
   "source": []
  },
  {
   "cell_type": "code",
   "execution_count": null,
   "id": "6419d4ad-2370-416c-9acf-28cd1140867c",
   "metadata": {},
   "outputs": [],
   "source": []
  },
  {
   "cell_type": "code",
   "execution_count": null,
   "id": "92d5af1c-71f4-47e1-a946-3ddd12ed507c",
   "metadata": {},
   "outputs": [],
   "source": []
  },
  {
   "cell_type": "code",
   "execution_count": null,
   "id": "e2571b1c-47fe-4ab7-8fc1-2fc61f307943",
   "metadata": {},
   "outputs": [],
   "source": []
  },
  {
   "cell_type": "code",
   "execution_count": null,
   "id": "591c41b2-66f8-4adb-8914-c1f1a45a4115",
   "metadata": {},
   "outputs": [],
   "source": []
  },
  {
   "cell_type": "code",
   "execution_count": null,
   "id": "b69dde44-0652-4c61-b3ce-d08b260c54e8",
   "metadata": {},
   "outputs": [],
   "source": []
  },
  {
   "cell_type": "code",
   "execution_count": null,
   "id": "b7be7735-950d-4693-80b3-304101f91232",
   "metadata": {},
   "outputs": [],
   "source": []
  },
  {
   "cell_type": "code",
   "execution_count": null,
   "id": "ab0129d8-e632-4c2c-b0fd-433bbb30e696",
   "metadata": {},
   "outputs": [],
   "source": []
  },
  {
   "cell_type": "code",
   "execution_count": null,
   "id": "f54ef298-17e1-426a-bf36-8cf0a1c63310",
   "metadata": {},
   "outputs": [],
   "source": []
  },
  {
   "cell_type": "code",
   "execution_count": null,
   "id": "0ea67338-d035-4385-9ef4-a2b3ea0ffe5e",
   "metadata": {},
   "outputs": [],
   "source": []
  },
  {
   "cell_type": "code",
   "execution_count": null,
   "id": "c26d12c3-9507-4b79-a23c-b56a9e92bbba",
   "metadata": {},
   "outputs": [],
   "source": []
  },
  {
   "cell_type": "code",
   "execution_count": null,
   "id": "02cdb48b-010e-4545-9204-1ddadf17d562",
   "metadata": {},
   "outputs": [],
   "source": []
  },
  {
   "cell_type": "code",
   "execution_count": null,
   "id": "955b8eed-bcdb-4609-aced-9f690cd84b7b",
   "metadata": {},
   "outputs": [],
   "source": []
  }
 ],
 "metadata": {
  "kernelspec": {
   "display_name": "Python 3 (ipykernel)",
   "language": "python",
   "name": "python3"
  },
  "language_info": {
   "codemirror_mode": {
    "name": "ipython",
    "version": 3
   },
   "file_extension": ".py",
   "mimetype": "text/x-python",
   "name": "python",
   "nbconvert_exporter": "python",
   "pygments_lexer": "ipython3",
   "version": "3.9.18"
  },
  "widgets": {
   "application/vnd.jupyter.widget-state+json": {
    "state": {},
    "version_major": 2,
    "version_minor": 0
   }
  }
 },
 "nbformat": 4,
 "nbformat_minor": 5
}
