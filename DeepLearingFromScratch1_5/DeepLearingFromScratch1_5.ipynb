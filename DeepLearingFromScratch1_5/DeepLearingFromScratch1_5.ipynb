{
 "cells": [
  {
   "cell_type": "markdown",
   "id": "613e836b-0504-4389-a471-3efa5898f0c3",
   "metadata": {},
   "source": [
    "# 5. 오차역전파"
   ]
  },
  {
   "cell_type": "code",
   "execution_count": 5,
   "id": "aec351f7-8b39-400a-9539-b53ed1291eab",
   "metadata": {},
   "outputs": [],
   "source": [
    "import numpy as np"
   ]
  },
  {
   "cell_type": "markdown",
   "id": "c0608bab-2d73-4ae0-bd79-888cb10a3ba8",
   "metadata": {},
   "source": [
    "# 5.4 단순한 계층구현하기\n",
    "####  계산그래프에서의 곱셈노드('MulLayer'), 덧셈노드 ('AddLayer') 구현하기"
   ]
  },
  {
   "cell_type": "code",
   "execution_count": 4,
   "id": "0649b28b-a875-416c-9cff-ee05e1ec43ee",
   "metadata": {},
   "outputs": [],
   "source": [
    "# 곱셈 계층\n",
    "\n",
    "class MulLayer :\n",
    "    def __init__(self) :\n",
    "        self.x = None\n",
    "        self.y = None\n",
    "\n",
    "    # x와 y를 인수로 받고 두 값을 곱해서 반환.\n",
    "    def forward(self, x, y) :\n",
    "        self.x = x\n",
    "        self.y = y\n",
    "        out = x * y\n",
    "\n",
    "        return out\n",
    "        \n",
    "    # 상류에서 넘어온 미분(dout)에 순전파때의 값을 서로 바꿔 곱한 후 하류로 흘림.\n",
    "    def backward(self, dout) :\n",
    "        dx = dout * self.y    # change x with y\n",
    "        dy = dout * self.x\n",
    "\n",
    "        return dx, dy"
   ]
  },
  {
   "cell_type": "code",
   "execution_count": null,
   "id": "a163371a-f45c-456d-83da-96250d8e29a2",
   "metadata": {},
   "outputs": [],
   "source": []
  },
  {
   "cell_type": "code",
   "execution_count": 16,
   "id": "fd7c950b-941e-496e-ab4b-29007dc022a2",
   "metadata": {},
   "outputs": [
    {
     "name": "stdout",
     "output_type": "stream",
     "text": [
      "220.00000000000003\n"
     ]
    }
   ],
   "source": [
    "# 예시) 사과 2개 구입\n",
    "\n",
    "apple = 100\n",
    "apple_num = 2\n",
    "tax = 1.1\n",
    "\n",
    "#계층들\n",
    "mul_apple_layer = MulLayer()\n",
    "mul_tax_layer = MulLayer()\n",
    "\n",
    "\n",
    "#순전파\n",
    "apple_price = mul_apple_layer.forward(apple, apple_num)\n",
    "price = mul_tax_layer.forward(apple_price, tax)\n",
    "\n",
    "print(price)\n",
    "\n",
    "\n",
    "\n"
   ]
  },
  {
   "cell_type": "code",
   "execution_count": 17,
   "id": "7e72a38f-8d1c-4add-9e2a-24a949f07701",
   "metadata": {},
   "outputs": [
    {
     "name": "stdout",
     "output_type": "stream",
     "text": [
      "2.2 110.00000000000001 200\n"
     ]
    }
   ],
   "source": [
    "# 역전파\n",
    "# backward()가 받는 인수는 '순전파의 출력에 대한 미분'\n",
    "\n",
    "dprice = 1\n",
    "dapple_price, dtax = mul_tax_layer.backward(dprice)\n",
    "dapple, dapple_num = mul_apple_layer.backward(dapple_price)\n",
    "\n",
    "print(dapple, dapple_num, dtax)\n"
   ]
  },
  {
   "cell_type": "code",
   "execution_count": null,
   "id": "b25f4c88-40e4-49d5-a96b-f1a277d71ec4",
   "metadata": {},
   "outputs": [],
   "source": []
  },
  {
   "cell_type": "code",
   "execution_count": 33,
   "id": "7b54e342-3d7f-4b36-929d-a26758ae18ae",
   "metadata": {},
   "outputs": [],
   "source": [
    "# 덧셈 계층\n",
    "#backward()에서 상류에서 내려온 미분을 그대로 하류로 흫림.\n",
    "\n",
    "\n",
    "class AddLayer :\n",
    "    def __init__(self) :\n",
    "        pass\n",
    "        \n",
    "    def forward(self, x, y) :\n",
    "        out = x + y\n",
    "        return out\n",
    "\n",
    "    def backward(self, dout) :\n",
    "        dx = dout * 1\n",
    "        dy = dout * 1 \n",
    "        return dx, dy\n",
    "\n",
    "\n",
    "\n"
   ]
  },
  {
   "cell_type": "code",
   "execution_count": 34,
   "id": "d7a3f78f-ae31-4df3-af12-2172396a8820",
   "metadata": {},
   "outputs": [
    {
     "name": "stdout",
     "output_type": "stream",
     "text": [
      "715.0000000000001\n"
     ]
    }
   ],
   "source": [
    "# 예시) 사과 2개와 귤 3개 구입\n",
    "\n",
    "apple = 100\n",
    "apple_num = 2\n",
    "orange = 150\n",
    "orange_num = 3\n",
    "tax = 1.1\n",
    "\n",
    "\n",
    "#계층들\n",
    "mul_apple_layer = MulLayer()\n",
    "mul_orange_layer = MulLayer()\n",
    "mul_fruit_layer = AddLayer()\n",
    "mul_tax_layer = MulLayer()\n",
    "\n",
    "\n",
    "#순전파\n",
    "apple_price = mul_apple_layer.forward(apple, apple_num)\n",
    "orange_price = mul_orange_layer.forward(orange, orange_num)\n",
    "fruit_price = mul_fruit_layer.forward(apple_price, orange_price)\n",
    "price = mul_tax_layer.forward(fruit_price, tax)\n",
    "\n",
    "print(price)\n"
   ]
  },
  {
   "cell_type": "code",
   "execution_count": 35,
   "id": "0b48f213-a563-41c2-9461-cc3502fa5e61",
   "metadata": {},
   "outputs": [
    {
     "name": "stdout",
     "output_type": "stream",
     "text": [
      "1.1 650\n",
      "1.1 1.1\n",
      "2.2 110.00000000000001\n",
      "3.3000000000000003 165.0\n"
     ]
    }
   ],
   "source": [
    "\n",
    "\n",
    "\n",
    "# 역전파\n",
    "dprice = 1\n",
    "dfruit_price, dtax = mul_tax_layer.backward(dprice)\n",
    "dapple_price, dorange_price = mul_fruit_layer.backward(dfruit_price)\n",
    "dapple, dapple_num = mul_apple_layer.backward(dapple_price)\n",
    "dorange, dorange_num = mul_orange_layer.backward(dorange_price)\n",
    "\n",
    "\n",
    "\n",
    "print(dfruit_price, dtax)\n",
    "print(dapple_price, dorange_price)\n",
    "print(dapple, dapple_num)\n",
    "print(dorange, dorange_num)"
   ]
  },
  {
   "cell_type": "code",
   "execution_count": null,
   "id": "fe735a0f-1346-4f93-a48b-5f748eb8519c",
   "metadata": {},
   "outputs": [],
   "source": []
  },
  {
   "cell_type": "code",
   "execution_count": null,
   "id": "d2354af6-ca7f-414a-ba0e-128e589bd206",
   "metadata": {},
   "outputs": [],
   "source": []
  },
  {
   "cell_type": "markdown",
   "id": "09938258-8738-47da-afff-88afe3d49b2b",
   "metadata": {},
   "source": [
    "# 5.5 활성화 함수 계층 구현하기"
   ]
  },
  {
   "cell_type": "code",
   "execution_count": 3,
   "id": "be92c532-bb1b-41b1-a5d2-5c822b0f6140",
   "metadata": {},
   "outputs": [],
   "source": [
    "import numpy as np"
   ]
  },
  {
   "cell_type": "code",
   "execution_count": 4,
   "id": "bb71ef5d-532f-4d19-aa42-f5db5226ea27",
   "metadata": {},
   "outputs": [],
   "source": [
    "class ReLU :\n",
    "    def __init__(self) :\n",
    "        self.mask = None\n",
    "\n",
    "    def forward(self, x) :\n",
    "        self.mask = (x <= 0)\n",
    "        out = x.copy()\n",
    "        out[self.mask] = 0\n",
    "        \n",
    "        return out\n",
    "\n",
    "    def backward(self, dout) :\n",
    "        dout[self.mask] = 0\n",
    "        dx = dout\n",
    "\n",
    "        return dx        "
   ]
  },
  {
   "cell_type": "code",
   "execution_count": 5,
   "id": "fb1599c6-a1ad-4959-81c9-faaa8e3b0dc5",
   "metadata": {},
   "outputs": [
    {
     "name": "stdout",
     "output_type": "stream",
     "text": [
      "[[ 1.  -0.5]\n",
      " [-2.   3. ]]\n"
     ]
    }
   ],
   "source": [
    "x = np.array([[1.0, -0.5], [-2.0, 3.0]])\n",
    "print(x)"
   ]
  },
  {
   "cell_type": "code",
   "execution_count": 6,
   "id": "62eb635e-6d01-4160-ae13-a35cfefe758a",
   "metadata": {},
   "outputs": [
    {
     "name": "stdout",
     "output_type": "stream",
     "text": [
      "[[False  True]\n",
      " [ True False]]\n"
     ]
    }
   ],
   "source": [
    "mask = (x <= 0)\n",
    "print(mask)"
   ]
  },
  {
   "cell_type": "code",
   "execution_count": 7,
   "id": "b4ada463-dde0-4a43-ae9c-805157506dfb",
   "metadata": {},
   "outputs": [],
   "source": [
    "class Sigmoid :\n",
    "    def __init__(self) :\n",
    "        self.out = None\n",
    "        \n",
    "    def forward(self, x) :\n",
    "        out = 1 / (1 + np.exp(-x))\n",
    "        self.out = out\n",
    "\n",
    "        return out\n",
    "\n",
    "    def backward(self, dout) :\n",
    "        dx = dout * self.out * (1 - self.out)\n",
    "        return dx"
   ]
  },
  {
   "cell_type": "markdown",
   "id": "77d5a686-870f-429e-b7b7-13cf785a5a47",
   "metadata": {},
   "source": [
    "# 5.6 Affine/Softmax 계층 구현하기"
   ]
  },
  {
   "cell_type": "code",
   "execution_count": 8,
   "id": "ad29ce74-c0f4-4bb7-82eb-089526084108",
   "metadata": {},
   "outputs": [],
   "source": [
    "import numpy as np"
   ]
  },
  {
   "cell_type": "code",
   "execution_count": 10,
   "id": "463df13f-af39-4cd2-a7d7-02745681a301",
   "metadata": {},
   "outputs": [],
   "source": [
    "X = np.random.rand(2)\n",
    "W = np.random.rand(2,3)\n",
    "B = np.random.rand(3)"
   ]
  },
  {
   "cell_type": "code",
   "execution_count": 12,
   "id": "e94dda56-4bfc-466e-9796-f880d8ed49f6",
   "metadata": {},
   "outputs": [
    {
     "name": "stdout",
     "output_type": "stream",
     "text": [
      "(2,)\n",
      "(2, 3)\n",
      "(3,)\n"
     ]
    }
   ],
   "source": [
    "print(X.shape)\n",
    "print(W.shape)\n",
    "print(B.shape)\n"
   ]
  },
  {
   "cell_type": "code",
   "execution_count": 15,
   "id": "6afa2f4a-f6fa-428b-82ce-ffe6d6735ab9",
   "metadata": {},
   "outputs": [],
   "source": [
    "Y = np.dot(X,W) + B"
   ]
  },
  {
   "cell_type": "code",
   "execution_count": null,
   "id": "7aae39dc-31c2-44de-b44c-6e39b7970df6",
   "metadata": {},
   "outputs": [],
   "source": []
  },
  {
   "cell_type": "code",
   "execution_count": 16,
   "id": "73d477db-cc5e-4f6c-b4f1-6b8fbaa1d59d",
   "metadata": {},
   "outputs": [],
   "source": [
    "X_dot_W = np.array([[0,0,0], [10,10,10]])"
   ]
  },
  {
   "cell_type": "code",
   "execution_count": 17,
   "id": "b8ba6f6b-200d-4bd6-96d9-7c4dd10882a1",
   "metadata": {},
   "outputs": [],
   "source": [
    "B = np.array([1,2,3])"
   ]
  },
  {
   "cell_type": "code",
   "execution_count": 18,
   "id": "63e24c7d-d48f-4b43-b9ab-0403067ac997",
   "metadata": {},
   "outputs": [
    {
     "data": {
      "text/plain": [
       "array([[ 0,  0,  0],\n",
       "       [10, 10, 10]])"
      ]
     },
     "execution_count": 18,
     "metadata": {},
     "output_type": "execute_result"
    }
   ],
   "source": [
    "X_dot_W"
   ]
  },
  {
   "cell_type": "code",
   "execution_count": 19,
   "id": "e7059a09-c91b-4b86-98cc-3c80cd12270b",
   "metadata": {},
   "outputs": [
    {
     "data": {
      "text/plain": [
       "array([[ 1,  2,  3],\n",
       "       [11, 12, 13]])"
      ]
     },
     "execution_count": 19,
     "metadata": {},
     "output_type": "execute_result"
    }
   ],
   "source": [
    "X_dot_W + B"
   ]
  },
  {
   "cell_type": "code",
   "execution_count": 20,
   "id": "90e33c79-b740-4141-bf41-7d2be7415423",
   "metadata": {},
   "outputs": [
    {
     "data": {
      "text/plain": [
       "array([[1, 2, 3],\n",
       "       [4, 5, 6]])"
      ]
     },
     "execution_count": 20,
     "metadata": {},
     "output_type": "execute_result"
    }
   ],
   "source": [
    "dY = np.array([[1,2,3], [4,5,6]])\n",
    "dY"
   ]
  },
  {
   "cell_type": "code",
   "execution_count": 22,
   "id": "587917d2-90a0-4457-8c1d-05097cd90f0b",
   "metadata": {},
   "outputs": [
    {
     "data": {
      "text/plain": [
       "array([5, 7, 9])"
      ]
     },
     "execution_count": 22,
     "metadata": {},
     "output_type": "execute_result"
    }
   ],
   "source": [
    "dB = np.sum(dY, axis = 0)\n",
    "dB"
   ]
  },
  {
   "cell_type": "code",
   "execution_count": 24,
   "id": "2f8c5279-7c5c-4c0f-a398-ec81071801c8",
   "metadata": {},
   "outputs": [],
   "source": [
    "# Affine 구현\n",
    "\n",
    "class Affine :\n",
    "    def __init__(self, W, b) :\n",
    "        self.W = W\n",
    "        self.b = b\n",
    "        self.x = None\n",
    "        self.dw = None\n",
    "        self.db = None\n",
    "        \n",
    "    def forward(self, x) :\n",
    "        self.x = x\n",
    "        out = np.dot(x, self.W) + self.b\n",
    "\n",
    "        return out\n",
    "\n",
    "    def backward(self, dout) :\n",
    "        dx = np.dot(dout, self.W.T)\n",
    "        self.dw = np.dot(self.x.T, dout)\n",
    "        self.db = np.sum(dout, axis = 0)\n",
    "\n",
    "        return dx\n"
   ]
  },
  {
   "cell_type": "code",
   "execution_count": 38,
   "id": "94b03dee-2e03-4ee6-99a1-ba4d4ff229f1",
   "metadata": {},
   "outputs": [],
   "source": [
    "# softmax함수 구현\n",
    "\n",
    "def softmax(a) :\n",
    "    c = np.max(a)\n",
    "    exp_a = np.exp(a - c) # 오버플로우 방지\n",
    "    sum_exp_a = np.sum(exp_a)\n",
    "    y = exp_a / sum_exp_a\n",
    "    \n",
    "    return y\n",
    "    \n",
    "def cross_entropy(y,t) :\n",
    "    delta = 1e-7\n",
    "    return -np.sum(t * np.log(y + delta))"
   ]
  },
  {
   "cell_type": "code",
   "execution_count": 41,
   "id": "9f8619ff-31dc-4bd4-a545-9e31bc042a77",
   "metadata": {},
   "outputs": [],
   "source": [
    "# softmax_loss 계층을 구현함 \n",
    "class SoftmaxWithLoss :\n",
    "    def __init__(self) :\n",
    "        self.loss = None # 손실\n",
    "        self.y = None # softmax의 출력\n",
    "        self.t = None # 정답 레이블(원-핫 벡터)\n",
    "    \n",
    "    def forward(self, x, t) :\n",
    "        self.t = t\n",
    "        self.y = softmax(x)\n",
    "        self.loss = cross_entropy(self.y, self.t)\n",
    "        return self.loss\n",
    "\n",
    "    def backward(self, dout = 1) :\n",
    "        batch_size = self.t.shape[0]\n",
    "        dx = (self.y - self.t) / batch_size  # 평균화된 기울기를 구함\n",
    "        return dx\n",
    "        \n"
   ]
  },
  {
   "cell_type": "code",
   "execution_count": null,
   "id": "438f95f9-74df-49c8-a84e-696e0cc0cf69",
   "metadata": {},
   "outputs": [],
   "source": []
  },
  {
   "cell_type": "markdown",
   "id": "dc3e9a9c-ff7e-4faa-a833-f46136b39219",
   "metadata": {},
   "source": [
    "# 5.7 오차역전파 구현"
   ]
  },
  {
   "cell_type": "code",
   "execution_count": 1,
   "id": "f3f6117e-4b99-4433-9752-4bf9d8483ea3",
   "metadata": {},
   "outputs": [],
   "source": [
    "import numpy as np\n",
    "\n",
    "\n",
    "# 시그모이드 함수구현\n",
    "def sigmoid(x) :\n",
    "    return 1 / (1 + np.exp(-x))\n",
    "\n",
    "\n",
    "# softmax함수 구현\n",
    "def softmax(a) :\n",
    "    c = np.max(a)\n",
    "    exp_a = np.exp(a - c) # 오버플로우 방지\n",
    "    sum_exp_a = np.sum(exp_a)\n",
    "    y = exp_a / sum_exp_a\n",
    "    return y\n",
    "\n",
    "\n",
    "# 크로스 엔트로피 계산\n",
    "def cross_entropy(y,t) :\n",
    "    delta = 1e-7\n",
    "    return -np.sum(t * np.log(y + delta))\n",
    "\n",
    "\n",
    "# 수치 미분  구현 \n",
    "def numerical_gradient(f, x):\n",
    "    h = 1e-7 # 0.0000001\n",
    "    grad = np.zeros_like(x)\n",
    "    \n",
    "    it = np.nditer(x, flags=['multi_index'], op_flags=['readwrite'])\n",
    "    while not it.finished:\n",
    "        idx = it.multi_index\n",
    "        \n",
    "        tmp_val = x[idx]\n",
    "        x[idx] = float(tmp_val) + h\n",
    "        fxh1 = f(x) # f(x+h)\n",
    "        \n",
    "        x[idx] = tmp_val - h \n",
    "        fxh2 = f(x) # f(x-h)\n",
    "        grad[idx] = (fxh1 - fxh2) / (2*h)\n",
    "        \n",
    "        x[idx] = tmp_val # 값 복원\n",
    "        it.iternext()   \n",
    "        \n",
    "    return grad\n",
    "\n",
    "\n",
    "\n"
   ]
  },
  {
   "cell_type": "code",
   "execution_count": 139,
   "id": "19a56417-fb0c-438d-9152-bc6040fcd18d",
   "metadata": {},
   "outputs": [],
   "source": [
    "# layer들 구현\n",
    "\n",
    "# Affine 구현\n",
    "class Affine :\n",
    "    def __init__(self, W, b) :\n",
    "        self.W = W\n",
    "        self.b = b\n",
    "        self.x = None\n",
    "        self.dW = None\n",
    "        self.db = None\n",
    "        \n",
    "    def forward(self, x) :\n",
    "        self.x = x\n",
    "        out = np.dot(x, self.W) + self.b\n",
    "\n",
    "        return out\n",
    "\n",
    "    def backward(self, dout) :\n",
    "        dx = np.dot(dout, self.W.T)\n",
    "        self.dW = np.dot(self.x.T, dout)\n",
    "        self.db = np.sum(dout, axis = 0)\n",
    "\n",
    "        return dx\n",
    "\n",
    "\n",
    "# ReLU게층 구현함\n",
    "class ReLU :\n",
    "    def __init__(self) :\n",
    "        self.mask = None\n",
    "\n",
    "    def forward(self, x) :\n",
    "        self.mask = (x <= 0)\n",
    "        out = x.copy()\n",
    "        out[self.mask] = 0\n",
    "        \n",
    "        return out\n",
    "\n",
    "    def backward(self, dout) :\n",
    "        dout[self.mask] = 0\n",
    "        dx = dout\n",
    "\n",
    "        return dx \n",
    "\n",
    "\n",
    "# softmax_loss 계층을 구현함 \n",
    "class SoftmaxWithLoss :\n",
    "    def __init__(self) :\n",
    "        self.loss = None # 손실\n",
    "        self.y = None # softmax의 출력\n",
    "        self.t = None # 정답 레이블(원-핫 벡터)\n",
    "    \n",
    "    def forward(self, x, t) :\n",
    "        self.t = t\n",
    "        self.y = softmax(x)\n",
    "        self.loss = cross_entropy(self.y, self.t)\n",
    "        return self.loss\n",
    "\n",
    "    def backward(self, dout = 1) :\n",
    "        batch_size = self.t.shape[0]\n",
    "        dx = (self.y - self.t) / batch_size  # 평균화된 기울기를 구함\n",
    "        return dx\n",
    "        "
   ]
  },
  {
   "cell_type": "code",
   "execution_count": 140,
   "id": "5aaea91c-e665-4256-84b6-aa04e62dbc50",
   "metadata": {},
   "outputs": [],
   "source": [
    "from collections import OrderedDict\n",
    "\n",
    "\n",
    "# two layer로 구현해보기!\n",
    "class TwoLayerNet :\n",
    "    def __init__(self, input_size, hidden_size, output_size, weight_init_std = 0.1) :\n",
    "        # 가중치 초기화\n",
    "        self.params = {}\n",
    "        self.params['W1'] = weight_init_std * np.random.randn(input_size, hidden_size)\n",
    "        self.params['b1'] = np.zeros(hidden_size)\n",
    "        self.params['W2'] = weight_init_std * np.random.randn(hidden_size, output_size)\n",
    "        self.params['b2'] = np.zeros(output_size)\n",
    "\n",
    "        # 계층 생성\n",
    "        self.layers = OrderedDict()\n",
    "        self.layers['Affine1'] = Affine(self.params['W1'], self.params['b1'])\n",
    "        self.layers['ReLU1'] = ReLU()\n",
    "        self.layers['Affine2'] = Affine(self.params['W2'], self.params['b2'])\n",
    "        self.lastLayer = SoftmaxWithLoss()\n",
    "\n",
    "    def predict(self, x) :\n",
    "        for layer in self.layers.values() :\n",
    "            x = layer.forward(x)\n",
    "\n",
    "        return x\n",
    "\n",
    "    # x : 입력 데이터, t : 정답 레이블\n",
    "    def loss(self, x, t) :\n",
    "        y = self.predict(x)\n",
    "        return self.lastLayer.forward(y, t)\n",
    "\n",
    "    def accuracy(self, x, t) :\n",
    "        y = self.predict(x) \n",
    "        y = np.argmax(y, axis = 1) \n",
    "        if t.ndim != 1 : t = np.argmax(t, axis = 1)\n",
    "\n",
    "        accuracy = np.sum(y == t) / float(x.shape[0])\n",
    "\n",
    "        return accuracy\n",
    "\n",
    "\n",
    "    # x : 입력 데이터, t : 정답 레이블\n",
    "    def numerical_gradient(self, x, t) :\n",
    "        loss_W = lambda W : self.loss(x, t) \n",
    "\n",
    "        grads = {}\n",
    "        grads['W1'] = numerical_gradient(loss_W, self.params['W1'])\n",
    "        grads['b1'] = numerical_gradient(loss_W, self.params['b1'])\n",
    "        grads['W2'] = numerical_gradient(loss_W, self.params['W2'])\n",
    "        grads['b2'] = numerical_gradient(loss_W, self.params['b2'])\n",
    "\n",
    "        return grads\n",
    "\n",
    "    \n",
    "\n",
    "    def gradient(self, x, t) :\n",
    "        # 순전파 \n",
    "        self.loss(x, t)\n",
    "\n",
    "        # 역전파 \n",
    "        dout = 1\n",
    "        dout = self.lastLayer.backward(dout)\n",
    "\n",
    "        layers = list(self.layers.values())\n",
    "        layers.reverse()\n",
    "        \n",
    "        for layer in layers :\n",
    "            dout = layer.backward(dout)\n",
    "\n",
    "        # 결과 저장\n",
    "        grads = {}\n",
    "        grads['W1'] = self.layers['Affine1'].dW\n",
    "        grads['b1'] = self.layers['Affine1'].db\n",
    "        grads['W2'] = self.layers['Affine2'].dW\n",
    "        grads['b2'] = self.layers['Affine2'].db\n",
    "\n",
    "\n",
    "        return grads\n",
    "\n"
   ]
  },
  {
   "cell_type": "code",
   "execution_count": null,
   "id": "05eac142-4cf8-468e-b096-f9b31caea6ff",
   "metadata": {},
   "outputs": [],
   "source": []
  },
  {
   "cell_type": "markdown",
   "id": "07a0d513-f4fd-4be5-b3f9-b83584a7a977",
   "metadata": {},
   "source": [
    "# 5.7.3 오차역전파법으로 구한 기울기 검증하기 "
   ]
  },
  {
   "cell_type": "code",
   "execution_count": 141,
   "id": "fdd22a31-9900-49f5-af17-adb6090bb87b",
   "metadata": {},
   "outputs": [],
   "source": [
    "#입력층은 28*28\n",
    "#출력층은 10(0~9)\n",
    "# 첫번째 은닉층은 50개 두번째 은닉층은 100개로 임의로 정함\n",
    "from sklearn.datasets import fetch_openml\n",
    "from sklearn.model_selection import train_test_split\n",
    "\n",
    "# 0으로 채워진 길이 n의 리스트를 반환 \n",
    "def zeros(n) :\n",
    "    return [0 for i in range(n)]\n",
    "\n",
    "# 1차원 넘파이 배열을 2차원 one_hot_enconding으로 반환 \n",
    "# 주의 근데 여기서만 써야함\n",
    "def one_hot_encoding_in_one_to_two(y, n) :\n",
    "    output = []\n",
    "    for i in y :\n",
    "        row = zeros(n) \n",
    "        row[i] = 1\n",
    "        output.append(row)\n",
    "    return np.array(output)\n",
    "\n",
    "# 주의 4장에서만 사용할 것\n",
    "def get_data_with_one_hot_encoding() :\n",
    "    mnist = fetch_openml('mnist_784', version=1, as_frame=False)\n",
    "    X, y = mnist.data, mnist.target\n",
    "    y = y.astype(int) \n",
    "    X = X.astype(np.float64)  # 나누기를 하기위해 타입변환\n",
    "    X /= 255.0   #정규화, 0~1값으로 만들기\n",
    "\n",
    "    y = one_hot_encoding_in_one_to_two(y, 10) # 1차원 넘파이 배열을 2차원 one_hot_enconding으로 반환 \n",
    "    X_train, X_test, y_train, y_test = train_test_split(X, y, test_size=1/7, random_state=42)\n",
    "    \n",
    "    return (X_train, y_train), (X_test, y_test)\n",
    "\n"
   ]
  },
  {
   "cell_type": "code",
   "execution_count": null,
   "id": "aabb593e-58ed-44d2-ad88-b15df8077897",
   "metadata": {},
   "outputs": [],
   "source": []
  },
  {
   "cell_type": "markdown",
   "id": "ea95f5c6-79a6-4f8f-ba24-ee1465a21079",
   "metadata": {},
   "source": [
    "# 5.7.3 오차역전파법으로 구한 기울기 검증하기"
   ]
  },
  {
   "cell_type": "code",
   "execution_count": 142,
   "id": "9b9a198d-76dc-4678-ac09-4f11a90f647b",
   "metadata": {},
   "outputs": [],
   "source": [
    "\n",
    "# 데이터 준비\n",
    "(X_train, y_train) , (X_test, y_test) = get_data_with_one_hot_encoding()\n"
   ]
  },
  {
   "cell_type": "code",
   "execution_count": 143,
   "id": "b075505a-98d7-43d8-adae-293a412d34cb",
   "metadata": {},
   "outputs": [
    {
     "name": "stdout",
     "output_type": "stream",
     "text": [
      "W1 : 0.008178542671676385\n",
      "b1 : 0.05087470906741442\n",
      "W2 : 0.1477302128277587\n",
      "b2 : 0.32414527794242876\n"
     ]
    }
   ],
   "source": [
    "\n",
    "\n",
    "network = TwoLayerNet(input_size = 784, hidden_size = 50, output_size = 10)\n",
    "\n",
    "X_batch = X_train[100:103]\n",
    "y_batch = y_train[100:103]\n",
    "grad_numerical = network.numerical_gradient(X_batch, y_batch)\n",
    "grad_backprop = network.gradient(X_batch, y_batch)\n",
    "\n",
    "\n",
    "# 기울기 확인 // 각 가중치의 차이의 절댓값을 구한 후, 그 절댓값의 평균을 낸다.\n",
    "for key in grad_numerical.keys() :\n",
    "    diff = (np.average(np.abs(grad_backprop[key] - grad_numerical[key]) ))\n",
    "    print(key + \" : \" + str(diff))    \n",
    "\n"
   ]
  },
  {
   "cell_type": "code",
   "execution_count": null,
   "id": "2fe9b422-b756-4fb0-937d-fab2294cf1e1",
   "metadata": {},
   "outputs": [],
   "source": []
  },
  {
   "cell_type": "markdown",
   "id": "fb5738c8-874c-4971-9425-980acc75c17e",
   "metadata": {},
   "source": [
    "# 5.74 오차역전파법을 사용한 학습 구현하기"
   ]
  },
  {
   "cell_type": "code",
   "execution_count": 144,
   "id": "f947789b-9c7d-4648-b0cb-ec51b4197c8e",
   "metadata": {},
   "outputs": [],
   "source": [
    "# 데이터 읽기 \n",
    "(X_train, y_train) , (X_test, y_test) = get_data_with_one_hot_encoding()"
   ]
  },
  {
   "cell_type": "code",
   "execution_count": 145,
   "id": "0e07c4da-e3b6-4475-a97f-8b0f65be50e4",
   "metadata": {},
   "outputs": [
    {
     "name": "stdout",
     "output_type": "stream",
     "text": [
      "0.08076666666666667 0.0827\n",
      "0.09866666666666667 0.0983\n",
      "0.10178333333333334 0.1034\n",
      "0.10038333333333334 0.0967\n"
     ]
    },
    {
     "name": "stderr",
     "output_type": "stream",
     "text": [
      "C:\\Users\\Public\\Documents\\ESTsoft\\CreatorTemp\\ipykernel_14460\\2709667214.py:11: RuntimeWarning: invalid value encountered in subtract\n",
      "  exp_a = np.exp(a - c) # 오버플로우 방지\n"
     ]
    },
    {
     "name": "stdout",
     "output_type": "stream",
     "text": [
      "0.09866666666666667 0.0983\n",
      "0.09866666666666667 0.0983\n",
      "0.09866666666666667 0.0983\n",
      "0.09866666666666667 0.0983\n",
      "0.09866666666666667 0.0983\n",
      "0.09866666666666667 0.0983\n"
     ]
    },
    {
     "ename": "KeyboardInterrupt",
     "evalue": "",
     "output_type": "error",
     "traceback": [
      "\u001b[1;31m---------------------------------------------------------------------------\u001b[0m",
      "\u001b[1;31mKeyboardInterrupt\u001b[0m                         Traceback (most recent call last)",
      "Cell \u001b[1;32mIn[145], line 22\u001b[0m\n\u001b[0;32m     19\u001b[0m y_batch \u001b[38;5;241m=\u001b[39m y_train[batch_mask]\n\u001b[0;32m     21\u001b[0m \u001b[38;5;66;03m# 오차역전파법으로 기울기를 구한다.\u001b[39;00m\n\u001b[1;32m---> 22\u001b[0m grad \u001b[38;5;241m=\u001b[39m \u001b[43mnetwork\u001b[49m\u001b[38;5;241;43m.\u001b[39;49m\u001b[43mgradient\u001b[49m\u001b[43m(\u001b[49m\u001b[43mX_batch\u001b[49m\u001b[43m,\u001b[49m\u001b[43m \u001b[49m\u001b[43my_batch\u001b[49m\u001b[43m)\u001b[49m\n\u001b[0;32m     24\u001b[0m \u001b[38;5;66;03m# 갱신\u001b[39;00m\n\u001b[0;32m     25\u001b[0m \u001b[38;5;28;01mfor\u001b[39;00m key \u001b[38;5;129;01min\u001b[39;00m (\u001b[38;5;124m'\u001b[39m\u001b[38;5;124mW1\u001b[39m\u001b[38;5;124m'\u001b[39m, \u001b[38;5;124m'\u001b[39m\u001b[38;5;124mb1\u001b[39m\u001b[38;5;124m'\u001b[39m, \u001b[38;5;124m'\u001b[39m\u001b[38;5;124mW2\u001b[39m\u001b[38;5;124m'\u001b[39m, \u001b[38;5;124m'\u001b[39m\u001b[38;5;124mb2\u001b[39m\u001b[38;5;124m'\u001b[39m) :\n",
      "Cell \u001b[1;32mIn[140], line 68\u001b[0m, in \u001b[0;36mTwoLayerNet.gradient\u001b[1;34m(self, x, t)\u001b[0m\n\u001b[0;32m     65\u001b[0m layers\u001b[38;5;241m.\u001b[39mreverse()\n\u001b[0;32m     67\u001b[0m \u001b[38;5;28;01mfor\u001b[39;00m layer \u001b[38;5;129;01min\u001b[39;00m layers :\n\u001b[1;32m---> 68\u001b[0m     dout \u001b[38;5;241m=\u001b[39m \u001b[43mlayer\u001b[49m\u001b[38;5;241;43m.\u001b[39;49m\u001b[43mbackward\u001b[49m\u001b[43m(\u001b[49m\u001b[43mdout\u001b[49m\u001b[43m)\u001b[49m\n\u001b[0;32m     70\u001b[0m \u001b[38;5;66;03m# 결과 저장\u001b[39;00m\n\u001b[0;32m     71\u001b[0m grads \u001b[38;5;241m=\u001b[39m {}\n",
      "Cell \u001b[1;32mIn[139], line 19\u001b[0m, in \u001b[0;36mAffine.backward\u001b[1;34m(self, dout)\u001b[0m\n\u001b[0;32m     18\u001b[0m \u001b[38;5;28;01mdef\u001b[39;00m \u001b[38;5;21mbackward\u001b[39m(\u001b[38;5;28mself\u001b[39m, dout) :\n\u001b[1;32m---> 19\u001b[0m     dx \u001b[38;5;241m=\u001b[39m \u001b[43mnp\u001b[49m\u001b[38;5;241;43m.\u001b[39;49m\u001b[43mdot\u001b[49m\u001b[43m(\u001b[49m\u001b[43mdout\u001b[49m\u001b[43m,\u001b[49m\u001b[43m \u001b[49m\u001b[38;5;28;43mself\u001b[39;49m\u001b[38;5;241;43m.\u001b[39;49m\u001b[43mW\u001b[49m\u001b[38;5;241;43m.\u001b[39;49m\u001b[43mT\u001b[49m\u001b[43m)\u001b[49m\n\u001b[0;32m     20\u001b[0m     \u001b[38;5;28mself\u001b[39m\u001b[38;5;241m.\u001b[39mdW \u001b[38;5;241m=\u001b[39m np\u001b[38;5;241m.\u001b[39mdot(\u001b[38;5;28mself\u001b[39m\u001b[38;5;241m.\u001b[39mx\u001b[38;5;241m.\u001b[39mT, dout)\n\u001b[0;32m     21\u001b[0m     \u001b[38;5;28mself\u001b[39m\u001b[38;5;241m.\u001b[39mdb \u001b[38;5;241m=\u001b[39m np\u001b[38;5;241m.\u001b[39msum(dout, axis \u001b[38;5;241m=\u001b[39m \u001b[38;5;241m0\u001b[39m)\n",
      "\u001b[1;31mKeyboardInterrupt\u001b[0m: "
     ]
    }
   ],
   "source": [
    "\n",
    "# 모델 데리고 오기\n",
    "network = TwoLayerNet(input_size = 784, hidden_size = 50, output_size = 10)\n",
    "\n",
    "iters_num = 100000\n",
    "train_size = X_train.shape[0]\n",
    "batch_size = 100 \n",
    "learning_rate = 0.1\n",
    "\n",
    "train_loss_list = []\n",
    "train_acc_list = []\n",
    "test_acc_list = []\n",
    "\n",
    "iter_per_epoch = max(train_size / batch_size, 1)\n",
    "\n",
    "\n",
    "for i in range(iters_num) :\n",
    "    batch_mask = np.random.choice(train_size, batch_size)\n",
    "    X_batch = X_train[batch_mask]\n",
    "    y_batch = y_train[batch_mask]\n",
    "\n",
    "    # 오차역전파법으로 기울기를 구한다.\n",
    "    grad = network.gradient(X_batch, y_batch)\n",
    "\n",
    "    # 갱신\n",
    "    for key in ('W1', 'b1', 'W2', 'b2') :\n",
    "        network.params[key] -= learning_rate * grad[key]\n",
    "\n",
    "    loss = network.loss(X_batch, y_batch)\n",
    "    train_loss_list.append(loss)\n",
    "\n",
    "\n",
    "    if i % iter_per_epoch == 0 :\n",
    "        train_acc = network.accuracy(X_train, y_train)\n",
    "        test_acc = network.accuracy(X_test, y_test)\n",
    "        train_acc_list.append(train_acc)\n",
    "        test_acc_list.append(test_acc)\n",
    "        print(train_acc, test_acc)\n",
    "\n",
    "\n",
    "\n"
   ]
  },
  {
   "cell_type": "code",
   "execution_count": null,
   "id": "1eeda735-c559-433a-a259-907b95740186",
   "metadata": {},
   "outputs": [],
   "source": []
  },
  {
   "cell_type": "code",
   "execution_count": null,
   "id": "d2ecf9ac-a0d1-4570-ab36-1f549c4742c2",
   "metadata": {},
   "outputs": [],
   "source": []
  },
  {
   "cell_type": "code",
   "execution_count": null,
   "id": "a3bf35c3-e358-448b-9b3c-57eb0bf0da37",
   "metadata": {},
   "outputs": [],
   "source": []
  },
  {
   "cell_type": "code",
   "execution_count": null,
   "id": "e1825afa-fed1-4d56-982e-07071f97eb7b",
   "metadata": {},
   "outputs": [],
   "source": []
  },
  {
   "cell_type": "code",
   "execution_count": null,
   "id": "3fe8fd44-0489-4465-badc-1634d632f30b",
   "metadata": {},
   "outputs": [],
   "source": []
  },
  {
   "cell_type": "code",
   "execution_count": null,
   "id": "53e25bfa-e64a-413b-bf3c-3278c1a54063",
   "metadata": {},
   "outputs": [],
   "source": []
  },
  {
   "cell_type": "code",
   "execution_count": null,
   "id": "abf5856e-dd5e-4331-9986-1faa9fb35776",
   "metadata": {},
   "outputs": [],
   "source": []
  },
  {
   "cell_type": "code",
   "execution_count": null,
   "id": "810fbfbd-2c63-4c59-a677-9f30cc81cd48",
   "metadata": {},
   "outputs": [],
   "source": []
  },
  {
   "cell_type": "code",
   "execution_count": null,
   "id": "7fb40476-1b42-4a7e-8d09-44cc6dd82532",
   "metadata": {},
   "outputs": [],
   "source": []
  },
  {
   "cell_type": "code",
   "execution_count": null,
   "id": "f8c012d7-b5f2-479c-b1f2-b3c044bb5190",
   "metadata": {},
   "outputs": [],
   "source": []
  },
  {
   "cell_type": "code",
   "execution_count": null,
   "id": "e9aa237d-5976-438b-8403-0fd6db5c9b80",
   "metadata": {},
   "outputs": [],
   "source": []
  },
  {
   "cell_type": "code",
   "execution_count": null,
   "id": "c9b1cc88-668d-4aa2-9765-1bf30e903ab4",
   "metadata": {},
   "outputs": [],
   "source": []
  },
  {
   "cell_type": "code",
   "execution_count": null,
   "id": "81e78b21-fa68-4b18-a4ad-c3e99c019621",
   "metadata": {},
   "outputs": [],
   "source": []
  },
  {
   "cell_type": "code",
   "execution_count": null,
   "id": "79ee07ab-ebec-43d9-92b1-8a4c913f1490",
   "metadata": {},
   "outputs": [],
   "source": []
  },
  {
   "cell_type": "code",
   "execution_count": null,
   "id": "0ae2f0c3-9888-486a-88a0-bcf2efbf66ef",
   "metadata": {},
   "outputs": [],
   "source": []
  },
  {
   "cell_type": "code",
   "execution_count": null,
   "id": "0abd43e9-cd6d-44c5-aac0-ac10f2dd6985",
   "metadata": {},
   "outputs": [],
   "source": []
  },
  {
   "cell_type": "code",
   "execution_count": null,
   "id": "98be094b-747a-48b7-bd5e-fb00e21acfcc",
   "metadata": {},
   "outputs": [],
   "source": []
  },
  {
   "cell_type": "code",
   "execution_count": null,
   "id": "35f1f01f-96f9-490c-b9a4-ec794d79f052",
   "metadata": {},
   "outputs": [],
   "source": []
  },
  {
   "cell_type": "code",
   "execution_count": null,
   "id": "cc23fa21-a997-4097-a33a-d3b125b656f5",
   "metadata": {},
   "outputs": [],
   "source": []
  },
  {
   "cell_type": "code",
   "execution_count": null,
   "id": "f0710b75-772e-431b-8716-e2397f3630aa",
   "metadata": {},
   "outputs": [],
   "source": []
  },
  {
   "cell_type": "code",
   "execution_count": null,
   "id": "4cd20dc6-014a-40c7-9b37-537dc32dc03e",
   "metadata": {},
   "outputs": [],
   "source": []
  },
  {
   "cell_type": "code",
   "execution_count": null,
   "id": "dc8248e8-33bd-42c7-b6ef-0bd169872b5f",
   "metadata": {},
   "outputs": [],
   "source": []
  },
  {
   "cell_type": "code",
   "execution_count": null,
   "id": "0ae2157e-3133-4ba3-84c5-71a2115853fb",
   "metadata": {},
   "outputs": [],
   "source": []
  },
  {
   "cell_type": "code",
   "execution_count": null,
   "id": "e608d9aa-d030-4a74-98cf-324187f03e64",
   "metadata": {},
   "outputs": [],
   "source": []
  },
  {
   "cell_type": "code",
   "execution_count": null,
   "id": "0f68116d-be4b-45d6-b531-c0f6afa2e34b",
   "metadata": {},
   "outputs": [],
   "source": []
  },
  {
   "cell_type": "code",
   "execution_count": null,
   "id": "4648f77f-8070-4356-97c5-716a21d89e7a",
   "metadata": {},
   "outputs": [],
   "source": []
  },
  {
   "cell_type": "code",
   "execution_count": null,
   "id": "e3663f45-fad1-4a83-9041-da3c64c5845d",
   "metadata": {},
   "outputs": [],
   "source": []
  }
 ],
 "metadata": {
  "kernelspec": {
   "display_name": "Python 3 (ipykernel)",
   "language": "python",
   "name": "python3"
  },
  "language_info": {
   "codemirror_mode": {
    "name": "ipython",
    "version": 3
   },
   "file_extension": ".py",
   "mimetype": "text/x-python",
   "name": "python",
   "nbconvert_exporter": "python",
   "pygments_lexer": "ipython3",
   "version": "3.9.18"
  },
  "widgets": {
   "application/vnd.jupyter.widget-state+json": {
    "state": {},
    "version_major": 2,
    "version_minor": 0
   }
  }
 },
 "nbformat": 4,
 "nbformat_minor": 5
}
